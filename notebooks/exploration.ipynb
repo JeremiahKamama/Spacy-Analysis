{
 "cells": [
  {
   "source": [
    "!pip install wordcloud\n"
   ],
   "cell_type": "markdown",
   "metadata": {}
  },
  {
   "cell_type": "code",
   "execution_count": 1,
   "metadata": {},
   "outputs": [],
   "source": [
    "import matplotlib.pyplot as plt\n",
    "import seaborn as sns\n",
    "import pandas as pd\n",
    "import numpy as np\n",
    "import re\n",
    "import string\n",
    "\n",
    "\n",
    "import spacy\n",
    "from spacy.lang.en import English\n",
    "from spacy.tokens import Doc\n",
    "from spacy.lang.en.stop_words import STOP_WORDS\n",
    "from spacy.tokenizer import Tokenizer\n",
    "\n",
    "\n",
    "from sklearn.feature_extraction.text import CountVectorizer,TfidfVectorizer\n",
    "from sklearn.pipeline import Pipeline\n",
    "from sklearn.preprocessing import StandardScaler\n",
    "\n",
    "import wordcloud\n",
    "from wordcloud import WordCloud,ImageColorGenerator\n",
    "\n",
    "\n",
    "\n",
    "\n"
   ]
  },
  {
   "cell_type": "code",
   "execution_count": 2,
   "metadata": {},
   "outputs": [
    {
     "output_type": "execute_result",
     "data": {
      "text/plain": [
       "                                               title  score      id  \\\n",
       "0  It's not about the money, it's about sending a...     55  l6ulcx   \n",
       "1  Math Professor Scott Steiner says the numbers ...    110  l6uibd   \n",
       "2                                    Exit the system      0  l6uhhn   \n",
       "3  NEW SEC FILING FOR GME! CAN SOMEONE LESS RETAR...     29  l6ugk6   \n",
       "4  Not to distract from GME, just thought our AMC...     71  l6ufgy   \n",
       "\n",
       "                                                 url  comms_num       created  \\\n",
       "0                    https://v.redd.it/6j75regs72e61          6  1.611863e+09   \n",
       "1                    https://v.redd.it/ah50lyny62e61         23  1.611862e+09   \n",
       "2  https://www.reddit.com/r/wallstreetbets/commen...         47  1.611862e+09   \n",
       "3  https://sec.report/Document/0001193125-21-019848/         74  1.611862e+09   \n",
       "4                https://i.redd.it/4h2sukb662e61.jpg        156  1.611862e+09   \n",
       "\n",
       "                                                body            timestamp  \n",
       "0                                                NaN  2021-01-28 21:37:41  \n",
       "1                                                NaN  2021-01-28 21:32:10  \n",
       "2  The CEO of NASDAQ pushed to halt trading “to g...  2021-01-28 21:30:35  \n",
       "3                                                NaN  2021-01-28 21:28:57  \n",
       "4                                                NaN  2021-01-28 21:26:56  "
      ],
      "text/html": "<div>\n<style scoped>\n    .dataframe tbody tr th:only-of-type {\n        vertical-align: middle;\n    }\n\n    .dataframe tbody tr th {\n        vertical-align: top;\n    }\n\n    .dataframe thead th {\n        text-align: right;\n    }\n</style>\n<table border=\"1\" class=\"dataframe\">\n  <thead>\n    <tr style=\"text-align: right;\">\n      <th></th>\n      <th>title</th>\n      <th>score</th>\n      <th>id</th>\n      <th>url</th>\n      <th>comms_num</th>\n      <th>created</th>\n      <th>body</th>\n      <th>timestamp</th>\n    </tr>\n  </thead>\n  <tbody>\n    <tr>\n      <th>0</th>\n      <td>It's not about the money, it's about sending a...</td>\n      <td>55</td>\n      <td>l6ulcx</td>\n      <td>https://v.redd.it/6j75regs72e61</td>\n      <td>6</td>\n      <td>1.611863e+09</td>\n      <td>NaN</td>\n      <td>2021-01-28 21:37:41</td>\n    </tr>\n    <tr>\n      <th>1</th>\n      <td>Math Professor Scott Steiner says the numbers ...</td>\n      <td>110</td>\n      <td>l6uibd</td>\n      <td>https://v.redd.it/ah50lyny62e61</td>\n      <td>23</td>\n      <td>1.611862e+09</td>\n      <td>NaN</td>\n      <td>2021-01-28 21:32:10</td>\n    </tr>\n    <tr>\n      <th>2</th>\n      <td>Exit the system</td>\n      <td>0</td>\n      <td>l6uhhn</td>\n      <td>https://www.reddit.com/r/wallstreetbets/commen...</td>\n      <td>47</td>\n      <td>1.611862e+09</td>\n      <td>The CEO of NASDAQ pushed to halt trading “to g...</td>\n      <td>2021-01-28 21:30:35</td>\n    </tr>\n    <tr>\n      <th>3</th>\n      <td>NEW SEC FILING FOR GME! CAN SOMEONE LESS RETAR...</td>\n      <td>29</td>\n      <td>l6ugk6</td>\n      <td>https://sec.report/Document/0001193125-21-019848/</td>\n      <td>74</td>\n      <td>1.611862e+09</td>\n      <td>NaN</td>\n      <td>2021-01-28 21:28:57</td>\n    </tr>\n    <tr>\n      <th>4</th>\n      <td>Not to distract from GME, just thought our AMC...</td>\n      <td>71</td>\n      <td>l6ufgy</td>\n      <td>https://i.redd.it/4h2sukb662e61.jpg</td>\n      <td>156</td>\n      <td>1.611862e+09</td>\n      <td>NaN</td>\n      <td>2021-01-28 21:26:56</td>\n    </tr>\n  </tbody>\n</table>\n</div>"
     },
     "metadata": {},
     "execution_count": 2
    }
   ],
   "source": [
    "wsb = pd.read_csv('/Users/jeremiahkamama/Desktop/Article Projects/Spacy-Analysis/data/reddit_wsb.csv')\n",
    "\n",
    "wsb.head()"
   ]
  },
  {
   "cell_type": "code",
   "execution_count": 3,
   "metadata": {},
   "outputs": [
    {
     "output_type": "stream",
     "name": "stdout",
     "text": [
      "<class 'pandas.core.frame.DataFrame'>\nRangeIndex: 38641 entries, 0 to 38640\nData columns (total 8 columns):\n #   Column     Non-Null Count  Dtype  \n---  ------     --------------  -----  \n 0   title      38641 non-null  object \n 1   score      38641 non-null  int64  \n 2   id         38641 non-null  object \n 3   url        38641 non-null  object \n 4   comms_num  38641 non-null  int64  \n 5   created    38641 non-null  float64\n 6   body       19244 non-null  object \n 7   timestamp  38641 non-null  object \ndtypes: float64(1), int64(2), object(5)\nmemory usage: 2.4+ MB\n"
     ]
    }
   ],
   "source": [
    "wsb.info()\n"
   ]
  },
  {
   "cell_type": "code",
   "execution_count": 4,
   "metadata": {},
   "outputs": [
    {
     "output_type": "execute_result",
     "data": {
      "text/plain": [
       "title            0\n",
       "score            0\n",
       "id               0\n",
       "url              0\n",
       "comms_num        0\n",
       "created          0\n",
       "body         19397\n",
       "timestamp        0\n",
       "dtype: int64"
      ]
     },
     "metadata": {},
     "execution_count": 4
    }
   ],
   "source": [
    "#handling missing data\n",
    "miss_val = wsb.isnull().sum()\n",
    "\n",
    "miss_val[0:10]"
   ]
  },
  {
   "cell_type": "code",
   "execution_count": 5,
   "metadata": {},
   "outputs": [
    {
     "output_type": "stream",
     "name": "stdout",
     "text": [
      "6.274747030356358\n"
     ]
    }
   ],
   "source": [
    "cells = np.product(wsb.shape)\n",
    "missing = miss_val.sum()\n",
    "\n",
    "percentage_miss = (missing/cells)* 100\n",
    "\n",
    "print(percentage_miss)"
   ]
  },
  {
   "cell_type": "code",
   "execution_count": 6,
   "metadata": {},
   "outputs": [
    {
     "output_type": "execute_result",
     "data": {
      "text/plain": [
       "                                                   title  score      id  \\\n",
       "2                                        Exit the system      0  l6uhhn   \n",
       "6            SHORT STOCK DOESN'T HAVE AN EXPIRATION DATE    317  l6uf6d   \n",
       "7                                     THIS IS THE MOMENT    405  l6ub9l   \n",
       "10     We need to keep this movement going, we all ca...    222  l6uao1   \n",
       "12     Once you're done with GME - $AG and $SLV, the ...      0  l6u9wu   \n",
       "...                                                  ...    ...     ...   \n",
       "38622             What Have I to Lose?!?!?!!? GME 2 MOON    130  lwx3sr   \n",
       "38624  RKT and Morgan Stanley Discussion - My notes f...    105  lwx1e9   \n",
       "38626                $VG - Vonage Invester Day on Friday     18  lwwsq8   \n",
       "38631  Old School Mentality... still holding GME. Why...    296  lwwoc4   \n",
       "38635  Serious thing about $GME, you don't understand...   2564  lwwkiz   \n",
       "\n",
       "                                                     url  comms_num  \\\n",
       "2      https://www.reddit.com/r/wallstreetbets/commen...         47   \n",
       "6      https://www.reddit.com/r/wallstreetbets/commen...         53   \n",
       "7      https://www.reddit.com/r/wallstreetbets/commen...        178   \n",
       "10     https://www.reddit.com/r/wallstreetbets/commen...         70   \n",
       "12     https://www.reddit.com/r/wallstreetbets/commen...         16   \n",
       "...                                                  ...        ...   \n",
       "38622  https://www.reddit.com/r/wallstreetbets/commen...         13   \n",
       "38624  https://www.reddit.com/r/wallstreetbets/commen...         72   \n",
       "38626  https://www.reddit.com/r/wallstreetbets/commen...         11   \n",
       "38631  https://www.reddit.com/r/wallstreetbets/commen...         46   \n",
       "38635  https://www.reddit.com/r/wallstreetbets/commen...        319   \n",
       "\n",
       "            created                                               body  \\\n",
       "2      1.611862e+09  The CEO of NASDAQ pushed to halt trading “to g...   \n",
       "6      1.611862e+09  Hedgefund whales are spreading disinfo saying ...   \n",
       "7      1.611862e+09  Life isn't fair. My mother always told me that...   \n",
       "10     1.611862e+09   I believe right now is one of those rare oppo...   \n",
       "12     1.611861e+09  You guys are champs. GME... who would have tho...   \n",
       "...             ...                                                ...   \n",
       "38622  1.614816e+09  &#x200B;\\n\\nhttps://preview.redd.it/hexuezcw4u...   \n",
       "38624  1.614816e+09  RKT as a tech platform / real estate doubled a...   \n",
       "38626  1.614815e+09  Vonage is the 2nd largest UCaaS (Unified Commu...   \n",
       "38631  1.614815e+09  I don't know if I am an Ape, Autist or Retard....   \n",
       "38635  1.614814e+09  Guys, this rocket has been like the SpaceX Boo...   \n",
       "\n",
       "                 timestamp  \n",
       "2      2021-01-28 21:30:35  \n",
       "6      2021-01-28 21:26:27  \n",
       "7      2021-01-28 21:19:31  \n",
       "10     2021-01-28 21:18:25  \n",
       "12     2021-01-28 21:17:10  \n",
       "...                    ...  \n",
       "38622  2021-03-04 01:54:44  \n",
       "38624  2021-03-04 01:51:52  \n",
       "38626  2021-03-04 01:41:49  \n",
       "38631  2021-03-04 01:36:29  \n",
       "38635  2021-03-04 01:31:51  \n",
       "\n",
       "[19244 rows x 8 columns]"
      ],
      "text/html": "<div>\n<style scoped>\n    .dataframe tbody tr th:only-of-type {\n        vertical-align: middle;\n    }\n\n    .dataframe tbody tr th {\n        vertical-align: top;\n    }\n\n    .dataframe thead th {\n        text-align: right;\n    }\n</style>\n<table border=\"1\" class=\"dataframe\">\n  <thead>\n    <tr style=\"text-align: right;\">\n      <th></th>\n      <th>title</th>\n      <th>score</th>\n      <th>id</th>\n      <th>url</th>\n      <th>comms_num</th>\n      <th>created</th>\n      <th>body</th>\n      <th>timestamp</th>\n    </tr>\n  </thead>\n  <tbody>\n    <tr>\n      <th>2</th>\n      <td>Exit the system</td>\n      <td>0</td>\n      <td>l6uhhn</td>\n      <td>https://www.reddit.com/r/wallstreetbets/commen...</td>\n      <td>47</td>\n      <td>1.611862e+09</td>\n      <td>The CEO of NASDAQ pushed to halt trading “to g...</td>\n      <td>2021-01-28 21:30:35</td>\n    </tr>\n    <tr>\n      <th>6</th>\n      <td>SHORT STOCK DOESN'T HAVE AN EXPIRATION DATE</td>\n      <td>317</td>\n      <td>l6uf6d</td>\n      <td>https://www.reddit.com/r/wallstreetbets/commen...</td>\n      <td>53</td>\n      <td>1.611862e+09</td>\n      <td>Hedgefund whales are spreading disinfo saying ...</td>\n      <td>2021-01-28 21:26:27</td>\n    </tr>\n    <tr>\n      <th>7</th>\n      <td>THIS IS THE MOMENT</td>\n      <td>405</td>\n      <td>l6ub9l</td>\n      <td>https://www.reddit.com/r/wallstreetbets/commen...</td>\n      <td>178</td>\n      <td>1.611862e+09</td>\n      <td>Life isn't fair. My mother always told me that...</td>\n      <td>2021-01-28 21:19:31</td>\n    </tr>\n    <tr>\n      <th>10</th>\n      <td>We need to keep this movement going, we all ca...</td>\n      <td>222</td>\n      <td>l6uao1</td>\n      <td>https://www.reddit.com/r/wallstreetbets/commen...</td>\n      <td>70</td>\n      <td>1.611862e+09</td>\n      <td>I believe right now is one of those rare oppo...</td>\n      <td>2021-01-28 21:18:25</td>\n    </tr>\n    <tr>\n      <th>12</th>\n      <td>Once you're done with GME - $AG and $SLV, the ...</td>\n      <td>0</td>\n      <td>l6u9wu</td>\n      <td>https://www.reddit.com/r/wallstreetbets/commen...</td>\n      <td>16</td>\n      <td>1.611861e+09</td>\n      <td>You guys are champs. GME... who would have tho...</td>\n      <td>2021-01-28 21:17:10</td>\n    </tr>\n    <tr>\n      <th>...</th>\n      <td>...</td>\n      <td>...</td>\n      <td>...</td>\n      <td>...</td>\n      <td>...</td>\n      <td>...</td>\n      <td>...</td>\n      <td>...</td>\n    </tr>\n    <tr>\n      <th>38622</th>\n      <td>What Have I to Lose?!?!?!!? GME 2 MOON</td>\n      <td>130</td>\n      <td>lwx3sr</td>\n      <td>https://www.reddit.com/r/wallstreetbets/commen...</td>\n      <td>13</td>\n      <td>1.614816e+09</td>\n      <td>&amp;#x200B;\\n\\nhttps://preview.redd.it/hexuezcw4u...</td>\n      <td>2021-03-04 01:54:44</td>\n    </tr>\n    <tr>\n      <th>38624</th>\n      <td>RKT and Morgan Stanley Discussion - My notes f...</td>\n      <td>105</td>\n      <td>lwx1e9</td>\n      <td>https://www.reddit.com/r/wallstreetbets/commen...</td>\n      <td>72</td>\n      <td>1.614816e+09</td>\n      <td>RKT as a tech platform / real estate doubled a...</td>\n      <td>2021-03-04 01:51:52</td>\n    </tr>\n    <tr>\n      <th>38626</th>\n      <td>$VG - Vonage Invester Day on Friday</td>\n      <td>18</td>\n      <td>lwwsq8</td>\n      <td>https://www.reddit.com/r/wallstreetbets/commen...</td>\n      <td>11</td>\n      <td>1.614815e+09</td>\n      <td>Vonage is the 2nd largest UCaaS (Unified Commu...</td>\n      <td>2021-03-04 01:41:49</td>\n    </tr>\n    <tr>\n      <th>38631</th>\n      <td>Old School Mentality... still holding GME. Why...</td>\n      <td>296</td>\n      <td>lwwoc4</td>\n      <td>https://www.reddit.com/r/wallstreetbets/commen...</td>\n      <td>46</td>\n      <td>1.614815e+09</td>\n      <td>I don't know if I am an Ape, Autist or Retard....</td>\n      <td>2021-03-04 01:36:29</td>\n    </tr>\n    <tr>\n      <th>38635</th>\n      <td>Serious thing about $GME, you don't understand...</td>\n      <td>2564</td>\n      <td>lwwkiz</td>\n      <td>https://www.reddit.com/r/wallstreetbets/commen...</td>\n      <td>319</td>\n      <td>1.614814e+09</td>\n      <td>Guys, this rocket has been like the SpaceX Boo...</td>\n      <td>2021-03-04 01:31:51</td>\n    </tr>\n  </tbody>\n</table>\n<p>19244 rows × 8 columns</p>\n</div>"
     },
     "metadata": {},
     "execution_count": 6
    }
   ],
   "source": [
    "wsb.dropna()"
   ]
  },
  {
   "cell_type": "code",
   "execution_count": 7,
   "metadata": {
    "scrolled": true
   },
   "outputs": [
    {
     "output_type": "execute_result",
     "data": {
      "text/plain": [
       "                                                   title  score  \\\n",
       "0      It's not about the money, it's about sending a...     55   \n",
       "1      Math Professor Scott Steiner says the numbers ...    110   \n",
       "2                                        Exit the system      0   \n",
       "3      NEW SEC FILING FOR GME! CAN SOMEONE LESS RETAR...     29   \n",
       "4      Not to distract from GME, just thought our AMC...     71   \n",
       "...                                                  ...    ...   \n",
       "38636                           NCLH 💎🙌🚀🌕 YOLO update!!!     19   \n",
       "38637  Adding to $RKT 300 more to 1000 on morning pul...     59   \n",
       "38638  Started at 5k a few weeks ago. Now it’s time f...     44   \n",
       "38639  Posted yesterday about buying GME 104 @ $122.9...    864   \n",
       "38640  GME 🚀 Proud to fight beside each and everyone ...  15268   \n",
       "\n",
       "                                                     url  comms_num  \\\n",
       "0                        https://v.redd.it/6j75regs72e61          6   \n",
       "1                        https://v.redd.it/ah50lyny62e61         23   \n",
       "2      https://www.reddit.com/r/wallstreetbets/commen...         47   \n",
       "3      https://sec.report/Document/0001193125-21-019848/         74   \n",
       "4                    https://i.redd.it/4h2sukb662e61.jpg        156   \n",
       "...                                                  ...        ...   \n",
       "38636                https://i.redd.it/v0k8a7s00uk61.png          5   \n",
       "38637                https://i.redd.it/z0k1zy3nytk61.jpg         76   \n",
       "38638                https://i.redd.it/ih9442fkytk61.jpg         26   \n",
       "38639                https://i.redd.it/mor1g3z9ytk61.jpg         22   \n",
       "38640                    https://v.redd.it/pzix2biywtk61        552   \n",
       "\n",
       "            created                                               body  \\\n",
       "0      1.611863e+09                                                NaN   \n",
       "1      1.611862e+09                                                NaN   \n",
       "2      1.611862e+09  The CEO of NASDAQ pushed to halt trading “to g...   \n",
       "3      1.611862e+09                                                NaN   \n",
       "4      1.611862e+09                                                NaN   \n",
       "...             ...                                                ...   \n",
       "38636  1.614814e+09                                                NaN   \n",
       "38637  1.614814e+09                                                NaN   \n",
       "38638  1.614814e+09                                                NaN   \n",
       "38639  1.614813e+09                                                NaN   \n",
       "38640  1.614813e+09                                                NaN   \n",
       "\n",
       "                 timestamp  \n",
       "0      2021-01-28 21:37:41  \n",
       "1      2021-01-28 21:32:10  \n",
       "2      2021-01-28 21:30:35  \n",
       "3      2021-01-28 21:28:57  \n",
       "4      2021-01-28 21:26:56  \n",
       "...                    ...  \n",
       "38636  2021-03-04 01:27:07  \n",
       "38637  2021-03-04 01:19:25  \n",
       "38638  2021-03-04 01:19:01  \n",
       "38639  2021-03-04 01:17:22  \n",
       "38640  2021-03-04 01:12:42  \n",
       "\n",
       "[38641 rows x 7 columns]"
      ],
      "text/html": "<div>\n<style scoped>\n    .dataframe tbody tr th:only-of-type {\n        vertical-align: middle;\n    }\n\n    .dataframe tbody tr th {\n        vertical-align: top;\n    }\n\n    .dataframe thead th {\n        text-align: right;\n    }\n</style>\n<table border=\"1\" class=\"dataframe\">\n  <thead>\n    <tr style=\"text-align: right;\">\n      <th></th>\n      <th>title</th>\n      <th>score</th>\n      <th>url</th>\n      <th>comms_num</th>\n      <th>created</th>\n      <th>body</th>\n      <th>timestamp</th>\n    </tr>\n  </thead>\n  <tbody>\n    <tr>\n      <th>0</th>\n      <td>It's not about the money, it's about sending a...</td>\n      <td>55</td>\n      <td>https://v.redd.it/6j75regs72e61</td>\n      <td>6</td>\n      <td>1.611863e+09</td>\n      <td>NaN</td>\n      <td>2021-01-28 21:37:41</td>\n    </tr>\n    <tr>\n      <th>1</th>\n      <td>Math Professor Scott Steiner says the numbers ...</td>\n      <td>110</td>\n      <td>https://v.redd.it/ah50lyny62e61</td>\n      <td>23</td>\n      <td>1.611862e+09</td>\n      <td>NaN</td>\n      <td>2021-01-28 21:32:10</td>\n    </tr>\n    <tr>\n      <th>2</th>\n      <td>Exit the system</td>\n      <td>0</td>\n      <td>https://www.reddit.com/r/wallstreetbets/commen...</td>\n      <td>47</td>\n      <td>1.611862e+09</td>\n      <td>The CEO of NASDAQ pushed to halt trading “to g...</td>\n      <td>2021-01-28 21:30:35</td>\n    </tr>\n    <tr>\n      <th>3</th>\n      <td>NEW SEC FILING FOR GME! CAN SOMEONE LESS RETAR...</td>\n      <td>29</td>\n      <td>https://sec.report/Document/0001193125-21-019848/</td>\n      <td>74</td>\n      <td>1.611862e+09</td>\n      <td>NaN</td>\n      <td>2021-01-28 21:28:57</td>\n    </tr>\n    <tr>\n      <th>4</th>\n      <td>Not to distract from GME, just thought our AMC...</td>\n      <td>71</td>\n      <td>https://i.redd.it/4h2sukb662e61.jpg</td>\n      <td>156</td>\n      <td>1.611862e+09</td>\n      <td>NaN</td>\n      <td>2021-01-28 21:26:56</td>\n    </tr>\n    <tr>\n      <th>...</th>\n      <td>...</td>\n      <td>...</td>\n      <td>...</td>\n      <td>...</td>\n      <td>...</td>\n      <td>...</td>\n      <td>...</td>\n    </tr>\n    <tr>\n      <th>38636</th>\n      <td>NCLH 💎🙌🚀🌕 YOLO update!!!</td>\n      <td>19</td>\n      <td>https://i.redd.it/v0k8a7s00uk61.png</td>\n      <td>5</td>\n      <td>1.614814e+09</td>\n      <td>NaN</td>\n      <td>2021-03-04 01:27:07</td>\n    </tr>\n    <tr>\n      <th>38637</th>\n      <td>Adding to $RKT 300 more to 1000 on morning pul...</td>\n      <td>59</td>\n      <td>https://i.redd.it/z0k1zy3nytk61.jpg</td>\n      <td>76</td>\n      <td>1.614814e+09</td>\n      <td>NaN</td>\n      <td>2021-03-04 01:19:25</td>\n    </tr>\n    <tr>\n      <th>38638</th>\n      <td>Started at 5k a few weeks ago. Now it’s time f...</td>\n      <td>44</td>\n      <td>https://i.redd.it/ih9442fkytk61.jpg</td>\n      <td>26</td>\n      <td>1.614814e+09</td>\n      <td>NaN</td>\n      <td>2021-03-04 01:19:01</td>\n    </tr>\n    <tr>\n      <th>38639</th>\n      <td>Posted yesterday about buying GME 104 @ $122.9...</td>\n      <td>864</td>\n      <td>https://i.redd.it/mor1g3z9ytk61.jpg</td>\n      <td>22</td>\n      <td>1.614813e+09</td>\n      <td>NaN</td>\n      <td>2021-03-04 01:17:22</td>\n    </tr>\n    <tr>\n      <th>38640</th>\n      <td>GME 🚀 Proud to fight beside each and everyone ...</td>\n      <td>15268</td>\n      <td>https://v.redd.it/pzix2biywtk61</td>\n      <td>552</td>\n      <td>1.614813e+09</td>\n      <td>NaN</td>\n      <td>2021-03-04 01:12:42</td>\n    </tr>\n  </tbody>\n</table>\n<p>38641 rows × 7 columns</p>\n</div>"
     },
     "metadata": {},
     "execution_count": 7
    }
   ],
   "source": [
    "wsb.drop(columns=['id'])"
   ]
  },
  {
   "cell_type": "code",
   "execution_count": 8,
   "metadata": {},
   "outputs": [],
   "source": [
    "nlp = spacy.load(\"en_core_web_sm\")"
   ]
  },
  {
   "cell_type": "code",
   "execution_count": 9,
   "metadata": {},
   "outputs": [
    {
     "output_type": "stream",
     "name": "stdout",
     "text": [
      "0    It's not about the money, it's about sending a...\n1    Math Professor Scott Steiner says the numbers ...\n2                                      Exit the system\n3    NEW SEC FILING FOR GME! CAN SOMEONE LESS RETAR...\n4    Not to distract from GME, just thought our AMC...\n5                                  WE BREAKING THROUGH\n6          SHORT STOCK DOESN'T HAVE AN EXPIRATION DATE\n7                                   THIS IS THE MOMENT\n8    Currently Holding AMC and NOK - Is it retarded...\n9    I have nothing to say but BRUH I am speechless...\nName: title, dtype: object\n"
     ]
    }
   ],
   "source": [
    "wsb_title = wsb['title'].dropna()\n",
    "\n",
    "wsb_title = wsb_title.head(10)\n",
    "print(wsb_title)"
   ]
  },
  {
   "cell_type": "code",
   "execution_count": 10,
   "metadata": {},
   "outputs": [
    {
     "output_type": "stream",
     "name": "stdout",
     "text": [
      "Math Professor Scott Steiner says the numbers spell DISASTER for Gamestop shorts\n"
     ]
    }
   ],
   "source": [
    "title = nlp(wsb_title[1])\n",
    "print(title)"
   ]
  },
  {
   "cell_type": "code",
   "execution_count": 11,
   "metadata": {},
   "outputs": [
    {
     "output_type": "stream",
     "name": "stdout",
     "text": [
      "Math PROPN compound\nProfessor PROPN compound\nScott PROPN compound\nSteiner PROPN nsubj\nsays VERB ROOT\nthe DET det\nnumbers NOUN nsubj\nspell VERB ccomp\nDISASTER NOUN dobj\nfor ADP prep\nGamestop PROPN compound\nshorts NOUN pobj\n"
     ]
    }
   ],
   "source": [
    "for token in title:\n",
    "    print(token.text,token.pos_,token.dep_)"
   ]
  },
  {
   "cell_type": "code",
   "execution_count": 12,
   "metadata": {},
   "outputs": [
    {
     "output_type": "stream",
     "name": "stdout",
     "text": [
      "['tok2vec', 'tagger', 'parser', 'ner', 'attribute_ruler', 'lemmatizer']\n"
     ]
    }
   ],
   "source": [
    "print(nlp.pipe_names)"
   ]
  },
  {
   "cell_type": "code",
   "execution_count": 13,
   "metadata": {},
   "outputs": [
    {
     "output_type": "stream",
     "name": "stdout",
     "text": [
      "2     The CEO of NASDAQ pushed to halt trading “to g...\n6     Hedgefund whales are spreading disinfo saying ...\n7     Life isn't fair. My mother always told me that...\n10     I believe right now is one of those rare oppo...\n12    You guys are champs. GME... who would have tho...\nName: body, dtype: object\n"
     ]
    }
   ],
   "source": [
    "wsb_body = wsb['body'].dropna()\n",
    "wsb_body = wsb_body.head()\n",
    "print(wsb_body)"
   ]
  },
  {
   "cell_type": "code",
   "execution_count": 14,
   "metadata": {},
   "outputs": [
    {
     "output_type": "stream",
     "name": "stdout",
     "text": [
      "The CEO of NASDAQ pushed to halt trading “to give investors a chance to recalibrate their positions”.\n\n[https://mobile.twitter.com/Mediaite/status/1354504710695362563](https://mobile.twitter.com/Mediaite/status/1354504710695362563)\n\nNow SEC is investigating, brokers are disallowing buying more calls. This is the institutions flat out admitting they will change the rules to bail out the rich but if it happens to us, we get a “well shucks you should have known investing is risky! have you tried cutting out avocados and coffee, maybe doing Uber on the side?”\n\nWe may have collectively driven up enough sentiment in wall street to make other big players go long on GME with us (we do not have the money to move the stock as much as it did alone). we didn’t hurt wall street as a whole, just a few funds went down while others went up and profited off the shorts the same as us. The media wants to pin the blame on us.\n\nIt should be crystal clear that this is a rigged game by now. Its time to build new exchanges that can’t arbitrarily change the rules on us. Cr\\*\\*o has some version of these, maybe they can be repurposed to be trade stock without government intervention. I don’t know exactly what it will look like yet, but the broad next steps i see are - 1. exit the current financial system 2. build a new one.\n"
     ]
    }
   ],
   "source": [
    "body = nlp(wsb_body[2])\n",
    "print(body)"
   ]
  },
  {
   "cell_type": "code",
   "execution_count": 15,
   "metadata": {
    "collapsed": true
   },
   "outputs": [],
   "source": [
    "\n",
    "\n",
    "def clean_text(text):\n",
    "    #text = text.lower()\n",
    "\n",
    "    text = re.sub('@[^\\s]+','',text)\n",
    "\n",
    "\n",
    "    text = re.sub(r\"http\\S+\", \"\",text)\n",
    "\n",
    "\n",
    "    text = ' '.join(re.findall(r'\\w+', text))\n",
    "\n",
    "    text = re.sub(r'\\s+[a-zA-Z]\\s+', ' ', text)\n",
    "\n",
    "\n",
    "    text = re.sub(r'\\s+', ' ', text, flags=re.I)\n",
    "    \n",
    "    return text\n",
    " \n",
    " "
   ]
  },
  {
   "cell_type": "code",
   "execution_count": 16,
   "metadata": {},
   "outputs": [
    {
     "output_type": "error",
     "ename": "TypeError",
     "evalue": "expected string or bytes-like object",
     "traceback": [
      "\u001b[0;31m---------------------------------------------------------------------------\u001b[0m",
      "\u001b[0;31mTypeError\u001b[0m                                 Traceback (most recent call last)",
      "\u001b[0;32m<ipython-input-16-0896b139b8b4>\u001b[0m in \u001b[0;36m<module>\u001b[0;34m\u001b[0m\n\u001b[1;32m      1\u001b[0m \u001b[0mtitle\u001b[0m \u001b[0;34m=\u001b[0m \u001b[0mclean_text\u001b[0m\u001b[0;34m(\u001b[0m\u001b[0;34m'title'\u001b[0m\u001b[0;34m)\u001b[0m\u001b[0;34m\u001b[0m\u001b[0;34m\u001b[0m\u001b[0m\n\u001b[0;32m----> 2\u001b[0;31m \u001b[0mbody\u001b[0m \u001b[0;34m=\u001b[0m \u001b[0mclean_text\u001b[0m\u001b[0;34m(\u001b[0m\u001b[0mbody\u001b[0m\u001b[0;34m)\u001b[0m\u001b[0;34m\u001b[0m\u001b[0;34m\u001b[0m\u001b[0m\n\u001b[0m\u001b[1;32m      3\u001b[0m \u001b[0;34m\u001b[0m\u001b[0m\n\u001b[1;32m      4\u001b[0m \u001b[0;34m\u001b[0m\u001b[0m\n\u001b[1;32m      5\u001b[0m \u001b[0mprint\u001b[0m\u001b[0;34m(\u001b[0m\u001b[0mbody\u001b[0m\u001b[0;34m)\u001b[0m\u001b[0;34m\u001b[0m\u001b[0;34m\u001b[0m\u001b[0m\n",
      "\u001b[0;32m<ipython-input-15-733cf7650b01>\u001b[0m in \u001b[0;36mclean_text\u001b[0;34m(text)\u001b[0m\n\u001b[1;32m      2\u001b[0m     \u001b[0;31m#text = text.lower()\u001b[0m\u001b[0;34m\u001b[0m\u001b[0;34m\u001b[0m\u001b[0;34m\u001b[0m\u001b[0m\n\u001b[1;32m      3\u001b[0m \u001b[0;34m\u001b[0m\u001b[0m\n\u001b[0;32m----> 4\u001b[0;31m     \u001b[0mtext\u001b[0m \u001b[0;34m=\u001b[0m \u001b[0mre\u001b[0m\u001b[0;34m.\u001b[0m\u001b[0msub\u001b[0m\u001b[0;34m(\u001b[0m\u001b[0;34m'@[^\\s]+'\u001b[0m\u001b[0;34m,\u001b[0m\u001b[0;34m''\u001b[0m\u001b[0;34m,\u001b[0m\u001b[0mtext\u001b[0m\u001b[0;34m)\u001b[0m\u001b[0;34m\u001b[0m\u001b[0;34m\u001b[0m\u001b[0m\n\u001b[0m\u001b[1;32m      5\u001b[0m \u001b[0;34m\u001b[0m\u001b[0m\n\u001b[1;32m      6\u001b[0m \u001b[0;34m\u001b[0m\u001b[0m\n",
      "\u001b[0;32m~/opt/anaconda3/lib/python3.8/re.py\u001b[0m in \u001b[0;36msub\u001b[0;34m(pattern, repl, string, count, flags)\u001b[0m\n\u001b[1;32m    208\u001b[0m     \u001b[0ma\u001b[0m \u001b[0mcallable\u001b[0m\u001b[0;34m,\u001b[0m \u001b[0mit\u001b[0m\u001b[0;31m'\u001b[0m\u001b[0ms\u001b[0m \u001b[0mpassed\u001b[0m \u001b[0mthe\u001b[0m \u001b[0mMatch\u001b[0m \u001b[0mobject\u001b[0m \u001b[0;32mand\u001b[0m \u001b[0mmust\u001b[0m \u001b[0;32mreturn\u001b[0m\u001b[0;34m\u001b[0m\u001b[0;34m\u001b[0m\u001b[0m\n\u001b[1;32m    209\u001b[0m     a replacement string to be used.\"\"\"\n\u001b[0;32m--> 210\u001b[0;31m     \u001b[0;32mreturn\u001b[0m \u001b[0m_compile\u001b[0m\u001b[0;34m(\u001b[0m\u001b[0mpattern\u001b[0m\u001b[0;34m,\u001b[0m \u001b[0mflags\u001b[0m\u001b[0;34m)\u001b[0m\u001b[0;34m.\u001b[0m\u001b[0msub\u001b[0m\u001b[0;34m(\u001b[0m\u001b[0mrepl\u001b[0m\u001b[0;34m,\u001b[0m \u001b[0mstring\u001b[0m\u001b[0;34m,\u001b[0m \u001b[0mcount\u001b[0m\u001b[0;34m)\u001b[0m\u001b[0;34m\u001b[0m\u001b[0;34m\u001b[0m\u001b[0m\n\u001b[0m\u001b[1;32m    211\u001b[0m \u001b[0;34m\u001b[0m\u001b[0m\n\u001b[1;32m    212\u001b[0m \u001b[0;32mdef\u001b[0m \u001b[0msubn\u001b[0m\u001b[0;34m(\u001b[0m\u001b[0mpattern\u001b[0m\u001b[0;34m,\u001b[0m \u001b[0mrepl\u001b[0m\u001b[0;34m,\u001b[0m \u001b[0mstring\u001b[0m\u001b[0;34m,\u001b[0m \u001b[0mcount\u001b[0m\u001b[0;34m=\u001b[0m\u001b[0;36m0\u001b[0m\u001b[0;34m,\u001b[0m \u001b[0mflags\u001b[0m\u001b[0;34m=\u001b[0m\u001b[0;36m0\u001b[0m\u001b[0;34m)\u001b[0m\u001b[0;34m:\u001b[0m\u001b[0;34m\u001b[0m\u001b[0;34m\u001b[0m\u001b[0m\n",
      "\u001b[0;31mTypeError\u001b[0m: expected string or bytes-like object"
     ]
    }
   ],
   "source": [
    "title = clean_text('title')\n",
    "body = clean_text(body)\n",
    "\n",
    "\n",
    "print(body)"
   ]
  },
  {
   "cell_type": "code",
   "execution_count": 16,
   "metadata": {},
   "outputs": [
    {
     "output_type": "stream",
     "name": "stdout",
     "text": [
      "['The', 'CEO', 'of', 'NASDAQ', 'pushed', 'to', 'halt', 'trading', '“', 'to', 'give', 'investors', 'a', 'chance', 'to', 'recalibrate', 'their', 'positions', '”', '.', '\\n\\n', '[', 'https://mobile.twitter.com/Mediaite/status/1354504710695362563](https://mobile.twitter.com/Mediaite/status/1354504710695362563', ')', '\\n\\n', 'Now', 'SEC', 'is', 'investigating', ',', 'brokers', 'are', 'disallowing', 'buying', 'more', 'calls', '.', 'This', 'is', 'the', 'institutions', 'flat', 'out', 'admitting', 'they', 'will', 'change', 'the', 'rules', 'to', 'bail', 'out', 'the', 'rich', 'but', 'if', 'it', 'happens', 'to', 'us', ',', 'we', 'get', 'a', '“', 'well', 'shucks', 'you', 'should', 'have', 'known', 'investing', 'is', 'risky', '!', 'have', 'you', 'tried', 'cutting', 'out', 'avocados', 'and', 'coffee', ',', 'maybe', 'doing', 'Uber', 'on', 'the', 'side', '?', '”', '\\n\\n', 'We', 'may', 'have', 'collectively', 'driven', 'up', 'enough', 'sentiment', 'in', 'wall', 'street', 'to', 'make', 'other', 'big', 'players', 'go', 'long', 'on', 'GME', 'with', 'us', '(', 'we', 'do', 'not', 'have', 'the', 'money', 'to', 'move', 'the', 'stock', 'as', 'much', 'as', 'it', 'did', 'alone', ')', '.', 'we', 'did', 'n’t', 'hurt', 'wall', 'street', 'as', 'a', 'whole', ',', 'just', 'a', 'few', 'funds', 'went', 'down', 'while', 'others', 'went', 'up', 'and', 'profited', 'off', 'the', 'shorts', 'the', 'same', 'as', 'us', '.', 'The', 'media', 'wants', 'to', 'pin', 'the', 'blame', 'on', 'us', '.', '\\n\\n', 'It', 'should', 'be', 'crystal', 'clear', 'that', 'this', 'is', 'a', 'rigged', 'game', 'by', 'now', '.', 'Its', 'time', 'to', 'build', 'new', 'exchanges', 'that', 'ca', 'n’t', 'arbitrarily', 'change', 'the', 'rules', 'on', 'us', '.', 'Cr\\\\*\\\\*o', 'has', 'some', 'version', 'of', 'these', ',', 'maybe', 'they', 'can', 'be', 'repurposed', 'to', 'be', 'trade', 'stock', 'without', 'government', 'intervention', '.', 'I', 'do', 'n’t', 'know', 'exactly', 'what', 'it', 'will', 'look', 'like', 'yet', ',', 'but', 'the', 'broad', 'next', 'steps', 'i', 'see', 'are', '-', '1', '.', 'exit', 'the', 'current', 'financial', 'system', '2', '.', 'build', 'a', 'new', 'one', '.']\n"
     ]
    }
   ],
   "source": [
    "token_list = []\n",
    "\n",
    "for token in body:\n",
    "    token_list.append(token.text)\n",
    "\n",
    "filter_sentence = []\n",
    "\n",
    "for word in token_list:\n",
    "    lexeme = nlp.vocab[word]\n",
    "    if lexeme.is_stop == False:\n",
    "        filter_sentence.append(word)\n",
    "\n",
    "print(token_list)\n"
   ]
  },
  {
   "cell_type": "code",
   "execution_count": 17,
   "metadata": {},
   "outputs": [
    {
     "output_type": "stream",
     "name": "stdout",
     "text": [
      "['CEO', 'NASDAQ', 'pushed', 'halt', 'trading', '“', 'investors', 'chance', 'recalibrate', 'positions', '”', '.', '\\n\\n', '[', 'https://mobile.twitter.com/Mediaite/status/1354504710695362563](https://mobile.twitter.com/Mediaite/status/1354504710695362563', ')', '\\n\\n', 'SEC', 'investigating', ',', 'brokers', 'disallowing', 'buying', 'calls', '.', 'institutions', 'flat', 'admitting', 'change', 'rules', 'bail', 'rich', 'happens', ',', '“', 'shucks', 'known', 'investing', 'risky', '!', 'tried', 'cutting', 'avocados', 'coffee', ',', 'maybe', 'Uber', '?', '”', '\\n\\n', 'collectively', 'driven', 'sentiment', 'wall', 'street', 'big', 'players', 'long', 'GME', '(', 'money', 'stock', ')', '.', 'hurt', 'wall', 'street', ',', 'funds', 'went', 'went', 'profited', 'shorts', '.', 'media', 'wants', 'pin', 'blame', '.', '\\n\\n', 'crystal', 'clear', 'rigged', 'game', '.', 'time', 'build', 'new', 'exchanges', 'arbitrarily', 'change', 'rules', '.', 'Cr\\\\*\\\\*o', 'version', ',', 'maybe', 'repurposed', 'trade', 'stock', 'government', 'intervention', '.', 'know', 'exactly', 'look', 'like', ',', 'broad', 'steps', '-', '1', '.', 'exit', 'current', 'financial', 'system', '2', '.', 'build', 'new', '.']\n"
     ]
    }
   ],
   "source": [
    "print(filter_sentence)"
   ]
  },
  {
   "cell_type": "code",
   "execution_count": 24,
   "metadata": {},
   "outputs": [],
   "source": [
    "desc_stopwords = set(STOP_WORDS)\n",
    "desc_stopwords.update(['https', 'http', '\\n', '\\t'])\n",
    "\n"
   ]
  },
  {
   "cell_type": "code",
   "execution_count": 25,
   "metadata": {},
   "outputs": [
    {
     "output_type": "error",
     "ename": "TypeError",
     "evalue": "expected string or bytes-like object",
     "traceback": [
      "\u001b[0;31m---------------------------------------------------------------------------\u001b[0m",
      "\u001b[0;31mTypeError\u001b[0m                                 Traceback (most recent call last)",
      "\u001b[0;32m<ipython-input-25-293891b092bd>\u001b[0m in \u001b[0;36m<module>\u001b[0;34m\u001b[0m\n\u001b[0;32m----> 1\u001b[0;31m \u001b[0mword_cloud\u001b[0m \u001b[0;34m=\u001b[0m \u001b[0mWordCloud\u001b[0m\u001b[0;34m(\u001b[0m\u001b[0mbackground_color\u001b[0m\u001b[0;34m=\u001b[0m\u001b[0;34m\"white\"\u001b[0m\u001b[0;34m,\u001b[0m \u001b[0mstopwords\u001b[0m\u001b[0;34m=\u001b[0m\u001b[0mdesc_stopwords\u001b[0m\u001b[0;34m)\u001b[0m\u001b[0;34m.\u001b[0m\u001b[0mgenerate\u001b[0m\u001b[0;34m(\u001b[0m\u001b[0mbody\u001b[0m\u001b[0;34m)\u001b[0m\u001b[0;34m\u001b[0m\u001b[0;34m\u001b[0m\u001b[0m\n\u001b[0m\u001b[1;32m      2\u001b[0m \u001b[0;34m\u001b[0m\u001b[0m\n\u001b[1;32m      3\u001b[0m \u001b[0mplt\u001b[0m\u001b[0;34m.\u001b[0m\u001b[0mfigure\u001b[0m\u001b[0;34m(\u001b[0m\u001b[0mfigsize\u001b[0m\u001b[0;34m=\u001b[0m\u001b[0;34m(\u001b[0m\u001b[0;36m10\u001b[0m\u001b[0;34m,\u001b[0m\u001b[0;36m20\u001b[0m\u001b[0;34m)\u001b[0m\u001b[0;34m)\u001b[0m\u001b[0;34m\u001b[0m\u001b[0;34m\u001b[0m\u001b[0m\n\u001b[1;32m      4\u001b[0m \u001b[0mplt\u001b[0m\u001b[0;34m.\u001b[0m\u001b[0mimshow\u001b[0m\u001b[0;34m(\u001b[0m\u001b[0mword_cloud\u001b[0m\u001b[0;34m,\u001b[0m\u001b[0minterpolation\u001b[0m\u001b[0;34m=\u001b[0m \u001b[0;34m'bilinear'\u001b[0m\u001b[0;34m)\u001b[0m\u001b[0;34m\u001b[0m\u001b[0;34m\u001b[0m\u001b[0m\n\u001b[1;32m      5\u001b[0m \u001b[0mplt\u001b[0m\u001b[0;34m.\u001b[0m\u001b[0mtitle\u001b[0m\u001b[0;34m(\u001b[0m\u001b[0;34m\"Word Cloud for Body[1]\"\u001b[0m\u001b[0;34m,\u001b[0m\u001b[0mfontsize\u001b[0m\u001b[0;34m=\u001b[0m\u001b[0;36m15\u001b[0m\u001b[0;34m)\u001b[0m\u001b[0;34m\u001b[0m\u001b[0;34m\u001b[0m\u001b[0m\n",
      "\u001b[0;32m~/opt/anaconda3/lib/python3.8/site-packages/wordcloud/wordcloud.py\u001b[0m in \u001b[0;36mgenerate\u001b[0;34m(self, text)\u001b[0m\n\u001b[1;32m    630\u001b[0m         \u001b[0mself\u001b[0m\u001b[0;34m\u001b[0m\u001b[0;34m\u001b[0m\u001b[0m\n\u001b[1;32m    631\u001b[0m         \"\"\"\n\u001b[0;32m--> 632\u001b[0;31m         \u001b[0;32mreturn\u001b[0m \u001b[0mself\u001b[0m\u001b[0;34m.\u001b[0m\u001b[0mgenerate_from_text\u001b[0m\u001b[0;34m(\u001b[0m\u001b[0mtext\u001b[0m\u001b[0;34m)\u001b[0m\u001b[0;34m\u001b[0m\u001b[0;34m\u001b[0m\u001b[0m\n\u001b[0m\u001b[1;32m    633\u001b[0m \u001b[0;34m\u001b[0m\u001b[0m\n\u001b[1;32m    634\u001b[0m     \u001b[0;32mdef\u001b[0m \u001b[0m_check_generated\u001b[0m\u001b[0;34m(\u001b[0m\u001b[0mself\u001b[0m\u001b[0;34m)\u001b[0m\u001b[0;34m:\u001b[0m\u001b[0;34m\u001b[0m\u001b[0;34m\u001b[0m\u001b[0m\n",
      "\u001b[0;32m~/opt/anaconda3/lib/python3.8/site-packages/wordcloud/wordcloud.py\u001b[0m in \u001b[0;36mgenerate_from_text\u001b[0;34m(self, text)\u001b[0m\n\u001b[1;32m    611\u001b[0m         \u001b[0mself\u001b[0m\u001b[0;34m\u001b[0m\u001b[0;34m\u001b[0m\u001b[0m\n\u001b[1;32m    612\u001b[0m         \"\"\"\n\u001b[0;32m--> 613\u001b[0;31m         \u001b[0mwords\u001b[0m \u001b[0;34m=\u001b[0m \u001b[0mself\u001b[0m\u001b[0;34m.\u001b[0m\u001b[0mprocess_text\u001b[0m\u001b[0;34m(\u001b[0m\u001b[0mtext\u001b[0m\u001b[0;34m)\u001b[0m\u001b[0;34m\u001b[0m\u001b[0;34m\u001b[0m\u001b[0m\n\u001b[0m\u001b[1;32m    614\u001b[0m         \u001b[0mself\u001b[0m\u001b[0;34m.\u001b[0m\u001b[0mgenerate_from_frequencies\u001b[0m\u001b[0;34m(\u001b[0m\u001b[0mwords\u001b[0m\u001b[0;34m)\u001b[0m\u001b[0;34m\u001b[0m\u001b[0;34m\u001b[0m\u001b[0m\n\u001b[1;32m    615\u001b[0m         \u001b[0;32mreturn\u001b[0m \u001b[0mself\u001b[0m\u001b[0;34m\u001b[0m\u001b[0;34m\u001b[0m\u001b[0m\n",
      "\u001b[0;32m~/opt/anaconda3/lib/python3.8/site-packages/wordcloud/wordcloud.py\u001b[0m in \u001b[0;36mprocess_text\u001b[0;34m(self, text)\u001b[0m\n\u001b[1;32m    573\u001b[0m         \u001b[0mregexp\u001b[0m \u001b[0;34m=\u001b[0m \u001b[0mself\u001b[0m\u001b[0;34m.\u001b[0m\u001b[0mregexp\u001b[0m \u001b[0;32mif\u001b[0m \u001b[0mself\u001b[0m\u001b[0;34m.\u001b[0m\u001b[0mregexp\u001b[0m \u001b[0;32mis\u001b[0m \u001b[0;32mnot\u001b[0m \u001b[0;32mNone\u001b[0m \u001b[0;32melse\u001b[0m \u001b[0mpattern\u001b[0m\u001b[0;34m\u001b[0m\u001b[0;34m\u001b[0m\u001b[0m\n\u001b[1;32m    574\u001b[0m \u001b[0;34m\u001b[0m\u001b[0m\n\u001b[0;32m--> 575\u001b[0;31m         \u001b[0mwords\u001b[0m \u001b[0;34m=\u001b[0m \u001b[0mre\u001b[0m\u001b[0;34m.\u001b[0m\u001b[0mfindall\u001b[0m\u001b[0;34m(\u001b[0m\u001b[0mregexp\u001b[0m\u001b[0;34m,\u001b[0m \u001b[0mtext\u001b[0m\u001b[0;34m,\u001b[0m \u001b[0mflags\u001b[0m\u001b[0;34m)\u001b[0m\u001b[0;34m\u001b[0m\u001b[0;34m\u001b[0m\u001b[0m\n\u001b[0m\u001b[1;32m    576\u001b[0m         \u001b[0;31m# remove 's\u001b[0m\u001b[0;34m\u001b[0m\u001b[0;34m\u001b[0m\u001b[0;34m\u001b[0m\u001b[0m\n\u001b[1;32m    577\u001b[0m         words = [word[:-2] if word.lower().endswith(\"'s\") else word\n",
      "\u001b[0;32m~/opt/anaconda3/lib/python3.8/re.py\u001b[0m in \u001b[0;36mfindall\u001b[0;34m(pattern, string, flags)\u001b[0m\n\u001b[1;32m    239\u001b[0m \u001b[0;34m\u001b[0m\u001b[0m\n\u001b[1;32m    240\u001b[0m     Empty matches are included in the result.\"\"\"\n\u001b[0;32m--> 241\u001b[0;31m     \u001b[0;32mreturn\u001b[0m \u001b[0m_compile\u001b[0m\u001b[0;34m(\u001b[0m\u001b[0mpattern\u001b[0m\u001b[0;34m,\u001b[0m \u001b[0mflags\u001b[0m\u001b[0;34m)\u001b[0m\u001b[0;34m.\u001b[0m\u001b[0mfindall\u001b[0m\u001b[0;34m(\u001b[0m\u001b[0mstring\u001b[0m\u001b[0;34m)\u001b[0m\u001b[0;34m\u001b[0m\u001b[0;34m\u001b[0m\u001b[0m\n\u001b[0m\u001b[1;32m    242\u001b[0m \u001b[0;34m\u001b[0m\u001b[0m\n\u001b[1;32m    243\u001b[0m \u001b[0;32mdef\u001b[0m \u001b[0mfinditer\u001b[0m\u001b[0;34m(\u001b[0m\u001b[0mpattern\u001b[0m\u001b[0;34m,\u001b[0m \u001b[0mstring\u001b[0m\u001b[0;34m,\u001b[0m \u001b[0mflags\u001b[0m\u001b[0;34m=\u001b[0m\u001b[0;36m0\u001b[0m\u001b[0;34m)\u001b[0m\u001b[0;34m:\u001b[0m\u001b[0;34m\u001b[0m\u001b[0;34m\u001b[0m\u001b[0m\n",
      "\u001b[0;31mTypeError\u001b[0m: expected string or bytes-like object"
     ]
    }
   ],
   "source": [
    "word_cloud = WordCloud(background_color=\"white\", stopwords=desc_stopwords).generate(body)\n",
    "\n",
    "plt.figure(figsize=(10,20))\n",
    "plt.imshow(word_cloud,interpolation= 'bilinear')\n",
    "plt.title(\"Word Cloud for Body[1]\",fontsize=15)\n",
    "plt.axis(\"off\")\n",
    "plt.show()\n"
   ]
  },
  {
   "cell_type": "code",
   "execution_count": null,
   "metadata": {},
   "outputs": [],
   "source": []
  }
 ],
 "metadata": {
  "kernelspec": {
   "name": "python388jvsc74a57bd01ec341fa770f0df4232859eab99b5f3c4c325cdef6289416fa7d9e7addb0c1d0",
   "display_name": "Python 3.8.8 64-bit ('base': conda)"
  },
  "language_info": {
   "codemirror_mode": {
    "name": "ipython",
    "version": 3
   },
   "file_extension": ".py",
   "mimetype": "text/x-python",
   "name": "python",
   "nbconvert_exporter": "python",
   "pygments_lexer": "ipython3",
   "version": "3.8.8"
  }
 },
 "nbformat": 4,
 "nbformat_minor": 2
}