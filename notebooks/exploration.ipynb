{
 "cells": [
  {
   "cell_type": "code",
   "execution_count": 27,
   "metadata": {},
   "outputs": [
    {
     "output_type": "stream",
     "name": "stdout",
     "text": [
      "Collecting wordcloud\n",
      "  Using cached wordcloud-1.8.1.tar.gz (220 kB)\n",
      "Requirement already satisfied: numpy>=1.6.1 in /Users/jeremiahkamama/opt/anaconda3/lib/python3.8/site-packages (from wordcloud) (1.19.2)\n",
      "Requirement already satisfied: pillow in /Users/jeremiahkamama/opt/anaconda3/lib/python3.8/site-packages (from wordcloud) (8.1.2)\n",
      "Requirement already satisfied: matplotlib in /Users/jeremiahkamama/opt/anaconda3/lib/python3.8/site-packages (from wordcloud) (3.3.4)\n",
      "Requirement already satisfied: kiwisolver>=1.0.1 in /Users/jeremiahkamama/opt/anaconda3/lib/python3.8/site-packages (from matplotlib->wordcloud) (1.3.1)\n",
      "Requirement already satisfied: python-dateutil>=2.1 in /Users/jeremiahkamama/opt/anaconda3/lib/python3.8/site-packages (from matplotlib->wordcloud) (2.8.1)\n",
      "Requirement already satisfied: pyparsing!=2.0.4,!=2.1.2,!=2.1.6,>=2.0.3 in /Users/jeremiahkamama/opt/anaconda3/lib/python3.8/site-packages (from matplotlib->wordcloud) (2.4.7)\n",
      "Requirement already satisfied: cycler>=0.10 in /Users/jeremiahkamama/opt/anaconda3/lib/python3.8/site-packages (from matplotlib->wordcloud) (0.10.0)\n",
      "Requirement already satisfied: six in /Users/jeremiahkamama/opt/anaconda3/lib/python3.8/site-packages (from cycler>=0.10->matplotlib->wordcloud) (1.15.0)\n",
      "Building wheels for collected packages: wordcloud\n",
      "  Building wheel for wordcloud (setup.py) ... \u001b[?25ldone\n",
      "\u001b[?25h  Created wheel for wordcloud: filename=wordcloud-1.8.1-cp38-cp38-macosx_10_9_x86_64.whl size=158041 sha256=9ce4cc0609c4ef5a6d06db3a3d46e6c56953b809c025786d815851da14180eab\n",
      "  Stored in directory: /Users/jeremiahkamama/Library/Caches/pip/wheels/4d/3f/0d/a2ba9b7895c9f1be89018b3141c3df3d4f9c786c882ccfbc3b\n",
      "Successfully built wordcloud\n",
      "Installing collected packages: wordcloud\n",
      "Successfully installed wordcloud-1.8.1\n"
     ]
    }
   ],
   "source": [
    "!pip install wordcloud\n"
   ]
  },
  {
   "cell_type": "code",
   "execution_count": 32,
   "metadata": {},
   "outputs": [],
   "source": [
    "import matplotlib.pyplot as plt\n",
    "import seaborn as sns\n",
    "import pandas as pd\n",
    "import numpy as np\n",
    "import re\n",
    "import string\n",
    "\n",
    "\n",
    "import spacy\n",
    "from spacy.lang.en import English\n",
    "from spacy.tokens import Doc\n",
    "from spacy.lang.en.stop_words import STOP_WORDS\n",
    "from spacy.tokenizer import Tokenizer\n",
    "\n",
    "\n",
    "from sklearn.feature_extraction.text import CountVectorizer,TfidfVectorizer\n",
    "from sklearn.pipeline import Pipeline\n",
    "from sklearn.preprocessing import StandardScaler\n",
    "\n",
    "import wordcloud\n",
    "from wordcloud import WordCloud,ImageColorGenerator\n",
    "\n",
    "\n",
    "\n",
    "\n"
   ]
  },
  {
   "cell_type": "code",
   "execution_count": 2,
   "metadata": {},
   "outputs": [
    {
     "output_type": "execute_result",
     "data": {
      "text/plain": [
       "                                               title  score      id  \\\n",
       "0  It's not about the money, it's about sending a...     55  l6ulcx   \n",
       "1  Math Professor Scott Steiner says the numbers ...    110  l6uibd   \n",
       "2                                    Exit the system      0  l6uhhn   \n",
       "3  NEW SEC FILING FOR GME! CAN SOMEONE LESS RETAR...     29  l6ugk6   \n",
       "4  Not to distract from GME, just thought our AMC...     71  l6ufgy   \n",
       "\n",
       "                                                 url  comms_num       created  \\\n",
       "0                    https://v.redd.it/6j75regs72e61          6  1.611863e+09   \n",
       "1                    https://v.redd.it/ah50lyny62e61         23  1.611862e+09   \n",
       "2  https://www.reddit.com/r/wallstreetbets/commen...         47  1.611862e+09   \n",
       "3  https://sec.report/Document/0001193125-21-019848/         74  1.611862e+09   \n",
       "4                https://i.redd.it/4h2sukb662e61.jpg        156  1.611862e+09   \n",
       "\n",
       "                                                body            timestamp  \n",
       "0                                                NaN  2021-01-28 21:37:41  \n",
       "1                                                NaN  2021-01-28 21:32:10  \n",
       "2  The CEO of NASDAQ pushed to halt trading “to g...  2021-01-28 21:30:35  \n",
       "3                                                NaN  2021-01-28 21:28:57  \n",
       "4                                                NaN  2021-01-28 21:26:56  "
      ],
      "text/html": "<div>\n<style scoped>\n    .dataframe tbody tr th:only-of-type {\n        vertical-align: middle;\n    }\n\n    .dataframe tbody tr th {\n        vertical-align: top;\n    }\n\n    .dataframe thead th {\n        text-align: right;\n    }\n</style>\n<table border=\"1\" class=\"dataframe\">\n  <thead>\n    <tr style=\"text-align: right;\">\n      <th></th>\n      <th>title</th>\n      <th>score</th>\n      <th>id</th>\n      <th>url</th>\n      <th>comms_num</th>\n      <th>created</th>\n      <th>body</th>\n      <th>timestamp</th>\n    </tr>\n  </thead>\n  <tbody>\n    <tr>\n      <th>0</th>\n      <td>It's not about the money, it's about sending a...</td>\n      <td>55</td>\n      <td>l6ulcx</td>\n      <td>https://v.redd.it/6j75regs72e61</td>\n      <td>6</td>\n      <td>1.611863e+09</td>\n      <td>NaN</td>\n      <td>2021-01-28 21:37:41</td>\n    </tr>\n    <tr>\n      <th>1</th>\n      <td>Math Professor Scott Steiner says the numbers ...</td>\n      <td>110</td>\n      <td>l6uibd</td>\n      <td>https://v.redd.it/ah50lyny62e61</td>\n      <td>23</td>\n      <td>1.611862e+09</td>\n      <td>NaN</td>\n      <td>2021-01-28 21:32:10</td>\n    </tr>\n    <tr>\n      <th>2</th>\n      <td>Exit the system</td>\n      <td>0</td>\n      <td>l6uhhn</td>\n      <td>https://www.reddit.com/r/wallstreetbets/commen...</td>\n      <td>47</td>\n      <td>1.611862e+09</td>\n      <td>The CEO of NASDAQ pushed to halt trading “to g...</td>\n      <td>2021-01-28 21:30:35</td>\n    </tr>\n    <tr>\n      <th>3</th>\n      <td>NEW SEC FILING FOR GME! CAN SOMEONE LESS RETAR...</td>\n      <td>29</td>\n      <td>l6ugk6</td>\n      <td>https://sec.report/Document/0001193125-21-019848/</td>\n      <td>74</td>\n      <td>1.611862e+09</td>\n      <td>NaN</td>\n      <td>2021-01-28 21:28:57</td>\n    </tr>\n    <tr>\n      <th>4</th>\n      <td>Not to distract from GME, just thought our AMC...</td>\n      <td>71</td>\n      <td>l6ufgy</td>\n      <td>https://i.redd.it/4h2sukb662e61.jpg</td>\n      <td>156</td>\n      <td>1.611862e+09</td>\n      <td>NaN</td>\n      <td>2021-01-28 21:26:56</td>\n    </tr>\n  </tbody>\n</table>\n</div>"
     },
     "metadata": {},
     "execution_count": 2
    }
   ],
   "source": [
    "wsb = pd.read_csv('/Users/jeremiahkamama/Desktop/Article Projects/Spacy-Analysis/data/reddit_wsb.csv')\n",
    "\n",
    "wsb.head()"
   ]
  },
  {
   "cell_type": "code",
   "execution_count": 3,
   "metadata": {},
   "outputs": [
    {
     "output_type": "stream",
     "name": "stdout",
     "text": [
      "<class 'pandas.core.frame.DataFrame'>\nRangeIndex: 38641 entries, 0 to 38640\nData columns (total 8 columns):\n #   Column     Non-Null Count  Dtype  \n---  ------     --------------  -----  \n 0   title      38641 non-null  object \n 1   score      38641 non-null  int64  \n 2   id         38641 non-null  object \n 3   url        38641 non-null  object \n 4   comms_num  38641 non-null  int64  \n 5   created    38641 non-null  float64\n 6   body       19244 non-null  object \n 7   timestamp  38641 non-null  object \ndtypes: float64(1), int64(2), object(5)\nmemory usage: 2.4+ MB\n"
     ]
    }
   ],
   "source": [
    "wsb.info()\n"
   ]
  },
  {
   "cell_type": "code",
   "execution_count": 4,
   "metadata": {},
   "outputs": [
    {
     "output_type": "execute_result",
     "data": {
      "text/plain": [
       "title            0\n",
       "score            0\n",
       "id               0\n",
       "url              0\n",
       "comms_num        0\n",
       "created          0\n",
       "body         19397\n",
       "timestamp        0\n",
       "dtype: int64"
      ]
     },
     "metadata": {},
     "execution_count": 4
    }
   ],
   "source": [
    "#handling missing data\n",
    "miss_val = wsb.isnull().sum()\n",
    "\n",
    "miss_val[0:10]"
   ]
  },
  {
   "cell_type": "code",
   "execution_count": 5,
   "metadata": {},
   "outputs": [
    {
     "output_type": "stream",
     "name": "stdout",
     "text": [
      "6.274747030356358\n"
     ]
    }
   ],
   "source": [
    "cells = np.product(wsb.shape)\n",
    "missing = miss_val.sum()\n",
    "\n",
    "percentage_miss = (missing/cells)* 100\n",
    "\n",
    "print(percentage_miss)"
   ]
  },
  {
   "cell_type": "code",
   "execution_count": 6,
   "metadata": {},
   "outputs": [
    {
     "output_type": "execute_result",
     "data": {
      "text/plain": [
       "                                                   title  score      id  \\\n",
       "2                                        Exit the system      0  l6uhhn   \n",
       "6            SHORT STOCK DOESN'T HAVE AN EXPIRATION DATE    317  l6uf6d   \n",
       "7                                     THIS IS THE MOMENT    405  l6ub9l   \n",
       "10     We need to keep this movement going, we all ca...    222  l6uao1   \n",
       "12     Once you're done with GME - $AG and $SLV, the ...      0  l6u9wu   \n",
       "...                                                  ...    ...     ...   \n",
       "38622             What Have I to Lose?!?!?!!? GME 2 MOON    130  lwx3sr   \n",
       "38624  RKT and Morgan Stanley Discussion - My notes f...    105  lwx1e9   \n",
       "38626                $VG - Vonage Invester Day on Friday     18  lwwsq8   \n",
       "38631  Old School Mentality... still holding GME. Why...    296  lwwoc4   \n",
       "38635  Serious thing about $GME, you don't understand...   2564  lwwkiz   \n",
       "\n",
       "                                                     url  comms_num  \\\n",
       "2      https://www.reddit.com/r/wallstreetbets/commen...         47   \n",
       "6      https://www.reddit.com/r/wallstreetbets/commen...         53   \n",
       "7      https://www.reddit.com/r/wallstreetbets/commen...        178   \n",
       "10     https://www.reddit.com/r/wallstreetbets/commen...         70   \n",
       "12     https://www.reddit.com/r/wallstreetbets/commen...         16   \n",
       "...                                                  ...        ...   \n",
       "38622  https://www.reddit.com/r/wallstreetbets/commen...         13   \n",
       "38624  https://www.reddit.com/r/wallstreetbets/commen...         72   \n",
       "38626  https://www.reddit.com/r/wallstreetbets/commen...         11   \n",
       "38631  https://www.reddit.com/r/wallstreetbets/commen...         46   \n",
       "38635  https://www.reddit.com/r/wallstreetbets/commen...        319   \n",
       "\n",
       "            created                                               body  \\\n",
       "2      1.611862e+09  The CEO of NASDAQ pushed to halt trading “to g...   \n",
       "6      1.611862e+09  Hedgefund whales are spreading disinfo saying ...   \n",
       "7      1.611862e+09  Life isn't fair. My mother always told me that...   \n",
       "10     1.611862e+09   I believe right now is one of those rare oppo...   \n",
       "12     1.611861e+09  You guys are champs. GME... who would have tho...   \n",
       "...             ...                                                ...   \n",
       "38622  1.614816e+09  &#x200B;\\n\\nhttps://preview.redd.it/hexuezcw4u...   \n",
       "38624  1.614816e+09  RKT as a tech platform / real estate doubled a...   \n",
       "38626  1.614815e+09  Vonage is the 2nd largest UCaaS (Unified Commu...   \n",
       "38631  1.614815e+09  I don't know if I am an Ape, Autist or Retard....   \n",
       "38635  1.614814e+09  Guys, this rocket has been like the SpaceX Boo...   \n",
       "\n",
       "                 timestamp  \n",
       "2      2021-01-28 21:30:35  \n",
       "6      2021-01-28 21:26:27  \n",
       "7      2021-01-28 21:19:31  \n",
       "10     2021-01-28 21:18:25  \n",
       "12     2021-01-28 21:17:10  \n",
       "...                    ...  \n",
       "38622  2021-03-04 01:54:44  \n",
       "38624  2021-03-04 01:51:52  \n",
       "38626  2021-03-04 01:41:49  \n",
       "38631  2021-03-04 01:36:29  \n",
       "38635  2021-03-04 01:31:51  \n",
       "\n",
       "[19244 rows x 8 columns]"
      ],
      "text/html": "<div>\n<style scoped>\n    .dataframe tbody tr th:only-of-type {\n        vertical-align: middle;\n    }\n\n    .dataframe tbody tr th {\n        vertical-align: top;\n    }\n\n    .dataframe thead th {\n        text-align: right;\n    }\n</style>\n<table border=\"1\" class=\"dataframe\">\n  <thead>\n    <tr style=\"text-align: right;\">\n      <th></th>\n      <th>title</th>\n      <th>score</th>\n      <th>id</th>\n      <th>url</th>\n      <th>comms_num</th>\n      <th>created</th>\n      <th>body</th>\n      <th>timestamp</th>\n    </tr>\n  </thead>\n  <tbody>\n    <tr>\n      <th>2</th>\n      <td>Exit the system</td>\n      <td>0</td>\n      <td>l6uhhn</td>\n      <td>https://www.reddit.com/r/wallstreetbets/commen...</td>\n      <td>47</td>\n      <td>1.611862e+09</td>\n      <td>The CEO of NASDAQ pushed to halt trading “to g...</td>\n      <td>2021-01-28 21:30:35</td>\n    </tr>\n    <tr>\n      <th>6</th>\n      <td>SHORT STOCK DOESN'T HAVE AN EXPIRATION DATE</td>\n      <td>317</td>\n      <td>l6uf6d</td>\n      <td>https://www.reddit.com/r/wallstreetbets/commen...</td>\n      <td>53</td>\n      <td>1.611862e+09</td>\n      <td>Hedgefund whales are spreading disinfo saying ...</td>\n      <td>2021-01-28 21:26:27</td>\n    </tr>\n    <tr>\n      <th>7</th>\n      <td>THIS IS THE MOMENT</td>\n      <td>405</td>\n      <td>l6ub9l</td>\n      <td>https://www.reddit.com/r/wallstreetbets/commen...</td>\n      <td>178</td>\n      <td>1.611862e+09</td>\n      <td>Life isn't fair. My mother always told me that...</td>\n      <td>2021-01-28 21:19:31</td>\n    </tr>\n    <tr>\n      <th>10</th>\n      <td>We need to keep this movement going, we all ca...</td>\n      <td>222</td>\n      <td>l6uao1</td>\n      <td>https://www.reddit.com/r/wallstreetbets/commen...</td>\n      <td>70</td>\n      <td>1.611862e+09</td>\n      <td>I believe right now is one of those rare oppo...</td>\n      <td>2021-01-28 21:18:25</td>\n    </tr>\n    <tr>\n      <th>12</th>\n      <td>Once you're done with GME - $AG and $SLV, the ...</td>\n      <td>0</td>\n      <td>l6u9wu</td>\n      <td>https://www.reddit.com/r/wallstreetbets/commen...</td>\n      <td>16</td>\n      <td>1.611861e+09</td>\n      <td>You guys are champs. GME... who would have tho...</td>\n      <td>2021-01-28 21:17:10</td>\n    </tr>\n    <tr>\n      <th>...</th>\n      <td>...</td>\n      <td>...</td>\n      <td>...</td>\n      <td>...</td>\n      <td>...</td>\n      <td>...</td>\n      <td>...</td>\n      <td>...</td>\n    </tr>\n    <tr>\n      <th>38622</th>\n      <td>What Have I to Lose?!?!?!!? GME 2 MOON</td>\n      <td>130</td>\n      <td>lwx3sr</td>\n      <td>https://www.reddit.com/r/wallstreetbets/commen...</td>\n      <td>13</td>\n      <td>1.614816e+09</td>\n      <td>&amp;#x200B;\\n\\nhttps://preview.redd.it/hexuezcw4u...</td>\n      <td>2021-03-04 01:54:44</td>\n    </tr>\n    <tr>\n      <th>38624</th>\n      <td>RKT and Morgan Stanley Discussion - My notes f...</td>\n      <td>105</td>\n      <td>lwx1e9</td>\n      <td>https://www.reddit.com/r/wallstreetbets/commen...</td>\n      <td>72</td>\n      <td>1.614816e+09</td>\n      <td>RKT as a tech platform / real estate doubled a...</td>\n      <td>2021-03-04 01:51:52</td>\n    </tr>\n    <tr>\n      <th>38626</th>\n      <td>$VG - Vonage Invester Day on Friday</td>\n      <td>18</td>\n      <td>lwwsq8</td>\n      <td>https://www.reddit.com/r/wallstreetbets/commen...</td>\n      <td>11</td>\n      <td>1.614815e+09</td>\n      <td>Vonage is the 2nd largest UCaaS (Unified Commu...</td>\n      <td>2021-03-04 01:41:49</td>\n    </tr>\n    <tr>\n      <th>38631</th>\n      <td>Old School Mentality... still holding GME. Why...</td>\n      <td>296</td>\n      <td>lwwoc4</td>\n      <td>https://www.reddit.com/r/wallstreetbets/commen...</td>\n      <td>46</td>\n      <td>1.614815e+09</td>\n      <td>I don't know if I am an Ape, Autist or Retard....</td>\n      <td>2021-03-04 01:36:29</td>\n    </tr>\n    <tr>\n      <th>38635</th>\n      <td>Serious thing about $GME, you don't understand...</td>\n      <td>2564</td>\n      <td>lwwkiz</td>\n      <td>https://www.reddit.com/r/wallstreetbets/commen...</td>\n      <td>319</td>\n      <td>1.614814e+09</td>\n      <td>Guys, this rocket has been like the SpaceX Boo...</td>\n      <td>2021-03-04 01:31:51</td>\n    </tr>\n  </tbody>\n</table>\n<p>19244 rows × 8 columns</p>\n</div>"
     },
     "metadata": {},
     "execution_count": 6
    }
   ],
   "source": [
    "wsb.dropna()"
   ]
  },
  {
   "cell_type": "code",
   "execution_count": 7,
   "metadata": {
    "scrolled": true
   },
   "outputs": [
    {
     "output_type": "execute_result",
     "data": {
      "text/plain": [
       "                                                   title  score  \\\n",
       "0      It's not about the money, it's about sending a...     55   \n",
       "1      Math Professor Scott Steiner says the numbers ...    110   \n",
       "2                                        Exit the system      0   \n",
       "3      NEW SEC FILING FOR GME! CAN SOMEONE LESS RETAR...     29   \n",
       "4      Not to distract from GME, just thought our AMC...     71   \n",
       "...                                                  ...    ...   \n",
       "38636                           NCLH 💎🙌🚀🌕 YOLO update!!!     19   \n",
       "38637  Adding to $RKT 300 more to 1000 on morning pul...     59   \n",
       "38638  Started at 5k a few weeks ago. Now it’s time f...     44   \n",
       "38639  Posted yesterday about buying GME 104 @ $122.9...    864   \n",
       "38640  GME 🚀 Proud to fight beside each and everyone ...  15268   \n",
       "\n",
       "                                                     url  comms_num  \\\n",
       "0                        https://v.redd.it/6j75regs72e61          6   \n",
       "1                        https://v.redd.it/ah50lyny62e61         23   \n",
       "2      https://www.reddit.com/r/wallstreetbets/commen...         47   \n",
       "3      https://sec.report/Document/0001193125-21-019848/         74   \n",
       "4                    https://i.redd.it/4h2sukb662e61.jpg        156   \n",
       "...                                                  ...        ...   \n",
       "38636                https://i.redd.it/v0k8a7s00uk61.png          5   \n",
       "38637                https://i.redd.it/z0k1zy3nytk61.jpg         76   \n",
       "38638                https://i.redd.it/ih9442fkytk61.jpg         26   \n",
       "38639                https://i.redd.it/mor1g3z9ytk61.jpg         22   \n",
       "38640                    https://v.redd.it/pzix2biywtk61        552   \n",
       "\n",
       "            created                                               body  \\\n",
       "0      1.611863e+09                                                NaN   \n",
       "1      1.611862e+09                                                NaN   \n",
       "2      1.611862e+09  The CEO of NASDAQ pushed to halt trading “to g...   \n",
       "3      1.611862e+09                                                NaN   \n",
       "4      1.611862e+09                                                NaN   \n",
       "...             ...                                                ...   \n",
       "38636  1.614814e+09                                                NaN   \n",
       "38637  1.614814e+09                                                NaN   \n",
       "38638  1.614814e+09                                                NaN   \n",
       "38639  1.614813e+09                                                NaN   \n",
       "38640  1.614813e+09                                                NaN   \n",
       "\n",
       "                 timestamp  \n",
       "0      2021-01-28 21:37:41  \n",
       "1      2021-01-28 21:32:10  \n",
       "2      2021-01-28 21:30:35  \n",
       "3      2021-01-28 21:28:57  \n",
       "4      2021-01-28 21:26:56  \n",
       "...                    ...  \n",
       "38636  2021-03-04 01:27:07  \n",
       "38637  2021-03-04 01:19:25  \n",
       "38638  2021-03-04 01:19:01  \n",
       "38639  2021-03-04 01:17:22  \n",
       "38640  2021-03-04 01:12:42  \n",
       "\n",
       "[38641 rows x 7 columns]"
      ],
      "text/html": "<div>\n<style scoped>\n    .dataframe tbody tr th:only-of-type {\n        vertical-align: middle;\n    }\n\n    .dataframe tbody tr th {\n        vertical-align: top;\n    }\n\n    .dataframe thead th {\n        text-align: right;\n    }\n</style>\n<table border=\"1\" class=\"dataframe\">\n  <thead>\n    <tr style=\"text-align: right;\">\n      <th></th>\n      <th>title</th>\n      <th>score</th>\n      <th>url</th>\n      <th>comms_num</th>\n      <th>created</th>\n      <th>body</th>\n      <th>timestamp</th>\n    </tr>\n  </thead>\n  <tbody>\n    <tr>\n      <th>0</th>\n      <td>It's not about the money, it's about sending a...</td>\n      <td>55</td>\n      <td>https://v.redd.it/6j75regs72e61</td>\n      <td>6</td>\n      <td>1.611863e+09</td>\n      <td>NaN</td>\n      <td>2021-01-28 21:37:41</td>\n    </tr>\n    <tr>\n      <th>1</th>\n      <td>Math Professor Scott Steiner says the numbers ...</td>\n      <td>110</td>\n      <td>https://v.redd.it/ah50lyny62e61</td>\n      <td>23</td>\n      <td>1.611862e+09</td>\n      <td>NaN</td>\n      <td>2021-01-28 21:32:10</td>\n    </tr>\n    <tr>\n      <th>2</th>\n      <td>Exit the system</td>\n      <td>0</td>\n      <td>https://www.reddit.com/r/wallstreetbets/commen...</td>\n      <td>47</td>\n      <td>1.611862e+09</td>\n      <td>The CEO of NASDAQ pushed to halt trading “to g...</td>\n      <td>2021-01-28 21:30:35</td>\n    </tr>\n    <tr>\n      <th>3</th>\n      <td>NEW SEC FILING FOR GME! CAN SOMEONE LESS RETAR...</td>\n      <td>29</td>\n      <td>https://sec.report/Document/0001193125-21-019848/</td>\n      <td>74</td>\n      <td>1.611862e+09</td>\n      <td>NaN</td>\n      <td>2021-01-28 21:28:57</td>\n    </tr>\n    <tr>\n      <th>4</th>\n      <td>Not to distract from GME, just thought our AMC...</td>\n      <td>71</td>\n      <td>https://i.redd.it/4h2sukb662e61.jpg</td>\n      <td>156</td>\n      <td>1.611862e+09</td>\n      <td>NaN</td>\n      <td>2021-01-28 21:26:56</td>\n    </tr>\n    <tr>\n      <th>...</th>\n      <td>...</td>\n      <td>...</td>\n      <td>...</td>\n      <td>...</td>\n      <td>...</td>\n      <td>...</td>\n      <td>...</td>\n    </tr>\n    <tr>\n      <th>38636</th>\n      <td>NCLH 💎🙌🚀🌕 YOLO update!!!</td>\n      <td>19</td>\n      <td>https://i.redd.it/v0k8a7s00uk61.png</td>\n      <td>5</td>\n      <td>1.614814e+09</td>\n      <td>NaN</td>\n      <td>2021-03-04 01:27:07</td>\n    </tr>\n    <tr>\n      <th>38637</th>\n      <td>Adding to $RKT 300 more to 1000 on morning pul...</td>\n      <td>59</td>\n      <td>https://i.redd.it/z0k1zy3nytk61.jpg</td>\n      <td>76</td>\n      <td>1.614814e+09</td>\n      <td>NaN</td>\n      <td>2021-03-04 01:19:25</td>\n    </tr>\n    <tr>\n      <th>38638</th>\n      <td>Started at 5k a few weeks ago. Now it’s time f...</td>\n      <td>44</td>\n      <td>https://i.redd.it/ih9442fkytk61.jpg</td>\n      <td>26</td>\n      <td>1.614814e+09</td>\n      <td>NaN</td>\n      <td>2021-03-04 01:19:01</td>\n    </tr>\n    <tr>\n      <th>38639</th>\n      <td>Posted yesterday about buying GME 104 @ $122.9...</td>\n      <td>864</td>\n      <td>https://i.redd.it/mor1g3z9ytk61.jpg</td>\n      <td>22</td>\n      <td>1.614813e+09</td>\n      <td>NaN</td>\n      <td>2021-03-04 01:17:22</td>\n    </tr>\n    <tr>\n      <th>38640</th>\n      <td>GME 🚀 Proud to fight beside each and everyone ...</td>\n      <td>15268</td>\n      <td>https://v.redd.it/pzix2biywtk61</td>\n      <td>552</td>\n      <td>1.614813e+09</td>\n      <td>NaN</td>\n      <td>2021-03-04 01:12:42</td>\n    </tr>\n  </tbody>\n</table>\n<p>38641 rows × 7 columns</p>\n</div>"
     },
     "metadata": {},
     "execution_count": 7
    }
   ],
   "source": [
    "wsb.drop(columns=['id'])"
   ]
  },
  {
   "cell_type": "code",
   "execution_count": 10,
   "metadata": {},
   "outputs": [],
   "source": [
    "nlp = spacy.load(\"en_core_web_sm\")"
   ]
  },
  {
   "cell_type": "code",
   "execution_count": 11,
   "metadata": {},
   "outputs": [
    {
     "output_type": "stream",
     "name": "stdout",
     "text": [
      "0    It's not about the money, it's about sending a...\n1    Math Professor Scott Steiner says the numbers ...\n2                                      Exit the system\n3    NEW SEC FILING FOR GME! CAN SOMEONE LESS RETAR...\n4    Not to distract from GME, just thought our AMC...\n5                                  WE BREAKING THROUGH\n6          SHORT STOCK DOESN'T HAVE AN EXPIRATION DATE\n7                                   THIS IS THE MOMENT\n8    Currently Holding AMC and NOK - Is it retarded...\n9    I have nothing to say but BRUH I am speechless...\nName: title, dtype: object\n"
     ]
    }
   ],
   "source": [
    "wsb_title = wsb['title'].dropna()\n",
    "\n",
    "wsb_title = wsb_title.head(10)\n",
    "print(wsb_title)"
   ]
  },
  {
   "cell_type": "code",
   "execution_count": 12,
   "metadata": {},
   "outputs": [
    {
     "output_type": "stream",
     "name": "stdout",
     "text": [
      "Math Professor Scott Steiner says the numbers spell DISASTER for Gamestop shorts\n"
     ]
    }
   ],
   "source": [
    "title = nlp(wsb_title[1])\n",
    "print(title)"
   ]
  },
  {
   "cell_type": "code",
   "execution_count": 13,
   "metadata": {},
   "outputs": [
    {
     "output_type": "stream",
     "name": "stdout",
     "text": [
      "Math PROPN compound\nProfessor PROPN compound\nScott PROPN compound\nSteiner PROPN nsubj\nsays VERB ROOT\nthe DET det\nnumbers NOUN nsubj\nspell VERB ccomp\nDISASTER NOUN dobj\nfor ADP prep\nGamestop PROPN compound\nshorts NOUN pobj\n"
     ]
    }
   ],
   "source": [
    "for token in title:\n",
    "    print(token.text,token.pos_,token.dep_)"
   ]
  },
  {
   "cell_type": "code",
   "execution_count": 29,
   "metadata": {},
   "outputs": [
    {
     "output_type": "stream",
     "name": "stdout",
     "text": [
      "['tok2vec', 'tagger', 'parser', 'ner', 'attribute_ruler', 'lemmatizer']\n"
     ]
    }
   ],
   "source": [
    "print(nlp.pipe_names)"
   ]
  },
  {
   "cell_type": "code",
   "execution_count": 14,
   "metadata": {},
   "outputs": [
    {
     "output_type": "stream",
     "name": "stdout",
     "text": [
      "2     The CEO of NASDAQ pushed to halt trading “to g...\n6     Hedgefund whales are spreading disinfo saying ...\n7     Life isn't fair. My mother always told me that...\n10     I believe right now is one of those rare oppo...\n12    You guys are champs. GME... who would have tho...\nName: body, dtype: object\n"
     ]
    }
   ],
   "source": [
    "wsb_body = wsb['body'].dropna()\n",
    "wsb_body = wsb_body.head()\n",
    "print(wsb_body)"
   ]
  },
  {
   "cell_type": "code",
   "execution_count": 15,
   "metadata": {},
   "outputs": [
    {
     "output_type": "stream",
     "name": "stdout",
     "text": [
      "The CEO of NASDAQ pushed to halt trading “to give investors a chance to recalibrate their positions”.\n\n[https://mobile.twitter.com/Mediaite/status/1354504710695362563](https://mobile.twitter.com/Mediaite/status/1354504710695362563)\n\nNow SEC is investigating, brokers are disallowing buying more calls. This is the institutions flat out admitting they will change the rules to bail out the rich but if it happens to us, we get a “well shucks you should have known investing is risky! have you tried cutting out avocados and coffee, maybe doing Uber on the side?”\n\nWe may have collectively driven up enough sentiment in wall street to make other big players go long on GME with us (we do not have the money to move the stock as much as it did alone). we didn’t hurt wall street as a whole, just a few funds went down while others went up and profited off the shorts the same as us. The media wants to pin the blame on us.\n\nIt should be crystal clear that this is a rigged game by now. Its time to build new exchanges that can’t arbitrarily change the rules on us. Cr\\*\\*o has some version of these, maybe they can be repurposed to be trade stock without government intervention. I don’t know exactly what it will look like yet, but the broad next steps i see are - 1. exit the current financial system 2. build a new one.\n"
     ]
    }
   ],
   "source": [
    "body = nlp(wsb_body[2])\n",
    "print(body)"
   ]
  },
  {
   "cell_type": "code",
   "execution_count": 50,
   "metadata": {
    "collapsed": true
   },
   "outputs": [],
   "source": [
    " \n",
    "def text_clean(text):\n",
    "    text = \"\"\n",
    "\n",
    "    # Replacing Handlers with Empty String\n",
    "    text = re.sub('@[^\\s]+','',text)\n",
    "\n",
    "    # Replacing URLs with Empty String\n",
    "    text = re.sub(r\"http\\S+\", \"\",text)\n",
    "\n",
    "    # Remove all the special characters\n",
    "    text = ' '.join(re.findall(r'\\w+', text))\n",
    "\n",
    "    # Replacing Single Characters with Empty String\n",
    "    text = re.sub(r'\\s+[a-zA-Z]\\s+', ' ', text)\n",
    "\n",
    "    # Removing Extra Spaces\n",
    "    text = re.sub(r'\\s+', ' ', text, flags=re.I)\n",
    "    \n",
    "    return text\n",
    " \n",
    " \n",
    " "
   ]
  },
  {
   "cell_type": "code",
   "execution_count": 51,
   "metadata": {},
   "outputs": [],
   "source": [
    " body = text_clean(body)"
   ]
  },
  {
   "cell_type": "code",
   "execution_count": 38,
   "metadata": {},
   "outputs": [
    {
     "output_type": "stream",
     "name": "stdout",
     "text": [
      "['The', 'CEO', 'of', 'NASDAQ', 'pushed', 'to', 'halt', 'trading', '“', 'to', 'give', 'investors', 'a', 'chance', 'to', 'recalibrate', 'their', 'positions', '”', '.', '\\n\\n', '[', 'https://mobile.twitter.com/Mediaite/status/1354504710695362563](https://mobile.twitter.com/Mediaite/status/1354504710695362563', ')', '\\n\\n', 'Now', 'SEC', 'is', 'investigating', ',', 'brokers', 'are', 'disallowing', 'buying', 'more', 'calls', '.', 'This', 'is', 'the', 'institutions', 'flat', 'out', 'admitting', 'they', 'will', 'change', 'the', 'rules', 'to', 'bail', 'out', 'the', 'rich', 'but', 'if', 'it', 'happens', 'to', 'us', ',', 'we', 'get', 'a', '“', 'well', 'shucks', 'you', 'should', 'have', 'known', 'investing', 'is', 'risky', '!', 'have', 'you', 'tried', 'cutting', 'out', 'avocados', 'and', 'coffee', ',', 'maybe', 'doing', 'Uber', 'on', 'the', 'side', '?', '”', '\\n\\n', 'We', 'may', 'have', 'collectively', 'driven', 'up', 'enough', 'sentiment', 'in', 'wall', 'street', 'to', 'make', 'other', 'big', 'players', 'go', 'long', 'on', 'GME', 'with', 'us', '(', 'we', 'do', 'not', 'have', 'the', 'money', 'to', 'move', 'the', 'stock', 'as', 'much', 'as', 'it', 'did', 'alone', ')', '.', 'we', 'did', 'n’t', 'hurt', 'wall', 'street', 'as', 'a', 'whole', ',', 'just', 'a', 'few', 'funds', 'went', 'down', 'while', 'others', 'went', 'up', 'and', 'profited', 'off', 'the', 'shorts', 'the', 'same', 'as', 'us', '.', 'The', 'media', 'wants', 'to', 'pin', 'the', 'blame', 'on', 'us', '.', '\\n\\n', 'It', 'should', 'be', 'crystal', 'clear', 'that', 'this', 'is', 'a', 'rigged', 'game', 'by', 'now', '.', 'Its', 'time', 'to', 'build', 'new', 'exchanges', 'that', 'ca', 'n’t', 'arbitrarily', 'change', 'the', 'rules', 'on', 'us', '.', 'Cr\\\\*\\\\*o', 'has', 'some', 'version', 'of', 'these', ',', 'maybe', 'they', 'can', 'be', 'repurposed', 'to', 'be', 'trade', 'stock', 'without', 'government', 'intervention', '.', 'I', 'do', 'n’t', 'know', 'exactly', 'what', 'it', 'will', 'look', 'like', 'yet', ',', 'but', 'the', 'broad', 'next', 'steps', 'i', 'see', 'are', '-', '1', '.', 'exit', 'the', 'current', 'financial', 'system', '2', '.', 'build', 'a', 'new', 'one', '.']\n"
     ]
    }
   ],
   "source": [
    "token_list = []\n",
    "for token in body:\n",
    "    token_list.append(token.text)\n",
    "\n",
    "filter_sentence = []\n",
    "\n",
    "for word in token_list:\n",
    "    lexeme = nlp.vocab[word]\n",
    "    if lexeme.is_punct == False:\n",
    "        filter_sentence.append(word)\n",
    "\n",
    "print(token_list)\n",
    "\n"
   ]
  },
  {
   "cell_type": "code",
   "execution_count": 39,
   "metadata": {},
   "outputs": [
    {
     "output_type": "stream",
     "name": "stdout",
     "text": [
      "['The', 'CEO', 'of', 'NASDAQ', 'pushed', 'to', 'halt', 'trading', 'to', 'give', 'investors', 'a', 'chance', 'to', 'recalibrate', 'their', 'positions', '\\n\\n', 'https://mobile.twitter.com/Mediaite/status/1354504710695362563](https://mobile.twitter.com/Mediaite/status/1354504710695362563', '\\n\\n', 'Now', 'SEC', 'is', 'investigating', 'brokers', 'are', 'disallowing', 'buying', 'more', 'calls', 'This', 'is', 'the', 'institutions', 'flat', 'out', 'admitting', 'they', 'will', 'change', 'the', 'rules', 'to', 'bail', 'out', 'the', 'rich', 'but', 'if', 'it', 'happens', 'to', 'us', 'we', 'get', 'a', 'well', 'shucks', 'you', 'should', 'have', 'known', 'investing', 'is', 'risky', 'have', 'you', 'tried', 'cutting', 'out', 'avocados', 'and', 'coffee', 'maybe', 'doing', 'Uber', 'on', 'the', 'side', '\\n\\n', 'We', 'may', 'have', 'collectively', 'driven', 'up', 'enough', 'sentiment', 'in', 'wall', 'street', 'to', 'make', 'other', 'big', 'players', 'go', 'long', 'on', 'GME', 'with', 'us', 'we', 'do', 'not', 'have', 'the', 'money', 'to', 'move', 'the', 'stock', 'as', 'much', 'as', 'it', 'did', 'alone', 'we', 'did', 'n’t', 'hurt', 'wall', 'street', 'as', 'a', 'whole', 'just', 'a', 'few', 'funds', 'went', 'down', 'while', 'others', 'went', 'up', 'and', 'profited', 'off', 'the', 'shorts', 'the', 'same', 'as', 'us', 'The', 'media', 'wants', 'to', 'pin', 'the', 'blame', 'on', 'us', '\\n\\n', 'It', 'should', 'be', 'crystal', 'clear', 'that', 'this', 'is', 'a', 'rigged', 'game', 'by', 'now', 'Its', 'time', 'to', 'build', 'new', 'exchanges', 'that', 'ca', 'n’t', 'arbitrarily', 'change', 'the', 'rules', 'on', 'us', 'Cr\\\\*\\\\*o', 'has', 'some', 'version', 'of', 'these', 'maybe', 'they', 'can', 'be', 'repurposed', 'to', 'be', 'trade', 'stock', 'without', 'government', 'intervention', 'I', 'do', 'n’t', 'know', 'exactly', 'what', 'it', 'will', 'look', 'like', 'yet', 'but', 'the', 'broad', 'next', 'steps', 'i', 'see', 'are', '1', 'exit', 'the', 'current', 'financial', 'system', '2', 'build', 'a', 'new', 'one']\n"
     ]
    }
   ],
   "source": [
    "print(filter_sentence)"
   ]
  },
  {
   "cell_type": "code",
   "execution_count": 52,
   "metadata": {},
   "outputs": [
    {
     "output_type": "stream",
     "name": "stderr",
     "text": [
      "/Users/jeremiahkamama/opt/anaconda3/lib/python3.8/site-packages/seaborn/distributions.py:306: UserWarning: Dataset has 0 variance; skipping density estimate.\n  warnings.warn(msg, UserWarning)\n/Users/jeremiahkamama/opt/anaconda3/lib/python3.8/site-packages/seaborn/distributions.py:306: UserWarning: Dataset has 0 variance; skipping density estimate.\n  warnings.warn(msg, UserWarning)\n"
     ]
    },
    {
     "output_type": "display_data",
     "data": {
      "text/plain": "<Figure size 1152x432 with 2 Axes>",
      "image/svg+xml": "<?xml version=\"1.0\" encoding=\"utf-8\" standalone=\"no\"?>\n<!DOCTYPE svg PUBLIC \"-//W3C//DTD SVG 1.1//EN\"\n  \"http://www.w3.org/Graphics/SVG/1.1/DTD/svg11.dtd\">\n<!-- Created with matplotlib (https://matplotlib.org/) -->\n<svg height=\"370.089687pt\" version=\"1.1\" viewBox=\"0 0 941.245313 370.089687\" width=\"941.245313pt\" xmlns=\"http://www.w3.org/2000/svg\" xmlns:xlink=\"http://www.w3.org/1999/xlink\">\n <metadata>\n  <rdf:RDF xmlns:cc=\"http://creativecommons.org/ns#\" xmlns:dc=\"http://purl.org/dc/elements/1.1/\" xmlns:rdf=\"http://www.w3.org/1999/02/22-rdf-syntax-ns#\">\n   <cc:Work>\n    <dc:type rdf:resource=\"http://purl.org/dc/dcmitype/StillImage\"/>\n    <dc:date>2021-03-25T23:18:08.127896</dc:date>\n    <dc:format>image/svg+xml</dc:format>\n    <dc:creator>\n     <cc:Agent>\n      <dc:title>Matplotlib v3.3.4, https://matplotlib.org/</dc:title>\n     </cc:Agent>\n    </dc:creator>\n   </cc:Work>\n  </rdf:RDF>\n </metadata>\n <defs>\n  <style type=\"text/css\">*{stroke-linecap:butt;stroke-linejoin:round;}</style>\n </defs>\n <g id=\"figure_1\">\n  <g id=\"patch_1\">\n   <path d=\"M 0 370.089687 \nL 941.245313 370.089687 \nL 941.245313 0 \nL 0 0 \nz\n\" style=\"fill:none;\"/>\n  </g>\n  <g id=\"axes_1\">\n   <g id=\"patch_2\">\n    <path d=\"M 41.245313 333.36 \nL 447.063494 333.36 \nL 447.063494 7.2 \nL 41.245313 7.2 \nz\n\" style=\"fill:#eaeaf2;\"/>\n   </g>\n   <g id=\"matplotlib.axis_1\">\n    <g id=\"xtick_1\">\n     <g id=\"line2d_1\">\n      <path clip-path=\"url(#pc229f1fc29)\" d=\"M 96.584155 333.36 \nL 96.584155 7.2 \n\" style=\"fill:none;stroke:#ffffff;stroke-linecap:round;stroke-width:0.8;\"/>\n     </g>\n     <g id=\"text_1\">\n      <!-- 11.6 -->\n      <g style=\"fill:#262626;\" transform=\"translate(87.222437 347.517812)scale(0.1 -0.1)\">\n       <defs>\n        <path d=\"M 37.25 0 \nL 28.46875 0 \nL 28.46875 56 \nQ 25.296875 52.984375 20.140625 49.953125 \nQ 14.984375 46.921875 10.890625 45.40625 \nL 10.890625 53.90625 \nQ 18.265625 57.375 23.78125 62.296875 \nQ 29.296875 67.234375 31.59375 71.875 \nL 37.25 71.875 \nz\n\" id=\"ArialMT-49\"/>\n        <path d=\"M 9.078125 0 \nL 9.078125 10.015625 \nL 19.09375 10.015625 \nL 19.09375 0 \nz\n\" id=\"ArialMT-46\"/>\n        <path d=\"M 49.75 54.046875 \nL 41.015625 53.375 \nQ 39.84375 58.546875 37.703125 60.890625 \nQ 34.125 64.65625 28.90625 64.65625 \nQ 24.703125 64.65625 21.53125 62.3125 \nQ 17.390625 59.28125 14.984375 53.46875 \nQ 12.59375 47.65625 12.5 36.921875 \nQ 15.671875 41.75 20.265625 44.09375 \nQ 24.859375 46.4375 29.890625 46.4375 \nQ 38.671875 46.4375 44.84375 39.96875 \nQ 51.03125 33.5 51.03125 23.25 \nQ 51.03125 16.5 48.125 10.71875 \nQ 45.21875 4.9375 40.140625 1.859375 \nQ 35.0625 -1.21875 28.609375 -1.21875 \nQ 17.625 -1.21875 10.6875 6.859375 \nQ 3.765625 14.9375 3.765625 33.5 \nQ 3.765625 54.25 11.421875 63.671875 \nQ 18.109375 71.875 29.4375 71.875 \nQ 37.890625 71.875 43.28125 67.140625 \nQ 48.6875 62.40625 49.75 54.046875 \nz\nM 13.875 23.1875 \nQ 13.875 18.65625 15.796875 14.5 \nQ 17.71875 10.359375 21.1875 8.171875 \nQ 24.65625 6 28.46875 6 \nQ 34.03125 6 38.03125 10.484375 \nQ 42.046875 14.984375 42.046875 22.703125 \nQ 42.046875 30.125 38.078125 34.390625 \nQ 34.125 38.671875 28.125 38.671875 \nQ 22.171875 38.671875 18.015625 34.390625 \nQ 13.875 30.125 13.875 23.1875 \nz\n\" id=\"ArialMT-54\"/>\n       </defs>\n       <use xlink:href=\"#ArialMT-49\"/>\n       <use x=\"48.240234\" xlink:href=\"#ArialMT-49\"/>\n       <use x=\"103.855469\" xlink:href=\"#ArialMT-46\"/>\n       <use x=\"131.638672\" xlink:href=\"#ArialMT-54\"/>\n      </g>\n     </g>\n    </g>\n    <g id=\"xtick_2\">\n     <g id=\"line2d_2\">\n      <path clip-path=\"url(#pc229f1fc29)\" d=\"M 170.369279 333.36 \nL 170.369279 7.2 \n\" style=\"fill:none;stroke:#ffffff;stroke-linecap:round;stroke-width:0.8;\"/>\n     </g>\n     <g id=\"text_2\">\n      <!-- 11.8 -->\n      <g style=\"fill:#262626;\" transform=\"translate(161.007561 347.517812)scale(0.1 -0.1)\">\n       <defs>\n        <path d=\"M 17.671875 38.8125 \nQ 12.203125 40.828125 9.5625 44.53125 \nQ 6.9375 48.25 6.9375 53.421875 \nQ 6.9375 61.234375 12.546875 66.546875 \nQ 18.171875 71.875 27.484375 71.875 \nQ 36.859375 71.875 42.578125 66.421875 \nQ 48.296875 60.984375 48.296875 53.171875 \nQ 48.296875 48.1875 45.671875 44.5 \nQ 43.0625 40.828125 37.75 38.8125 \nQ 44.34375 36.671875 47.78125 31.875 \nQ 51.21875 27.09375 51.21875 20.453125 \nQ 51.21875 11.28125 44.71875 5.03125 \nQ 38.234375 -1.21875 27.640625 -1.21875 \nQ 17.046875 -1.21875 10.546875 5.046875 \nQ 4.046875 11.328125 4.046875 20.703125 \nQ 4.046875 27.6875 7.59375 32.390625 \nQ 11.140625 37.109375 17.671875 38.8125 \nz\nM 15.921875 53.71875 \nQ 15.921875 48.640625 19.1875 45.40625 \nQ 22.46875 42.1875 27.6875 42.1875 \nQ 32.765625 42.1875 36.015625 45.375 \nQ 39.265625 48.578125 39.265625 53.21875 \nQ 39.265625 58.0625 35.90625 61.359375 \nQ 32.5625 64.65625 27.59375 64.65625 \nQ 22.5625 64.65625 19.234375 61.421875 \nQ 15.921875 58.203125 15.921875 53.71875 \nz\nM 13.09375 20.65625 \nQ 13.09375 16.890625 14.875 13.375 \nQ 16.65625 9.859375 20.171875 7.921875 \nQ 23.6875 6 27.734375 6 \nQ 34.03125 6 38.125 10.046875 \nQ 42.234375 14.109375 42.234375 20.359375 \nQ 42.234375 26.703125 38.015625 30.859375 \nQ 33.796875 35.015625 27.4375 35.015625 \nQ 21.234375 35.015625 17.15625 30.90625 \nQ 13.09375 26.8125 13.09375 20.65625 \nz\n\" id=\"ArialMT-56\"/>\n       </defs>\n       <use xlink:href=\"#ArialMT-49\"/>\n       <use x=\"48.240234\" xlink:href=\"#ArialMT-49\"/>\n       <use x=\"103.855469\" xlink:href=\"#ArialMT-46\"/>\n       <use x=\"131.638672\" xlink:href=\"#ArialMT-56\"/>\n      </g>\n     </g>\n    </g>\n    <g id=\"xtick_3\">\n     <g id=\"line2d_3\">\n      <path clip-path=\"url(#pc229f1fc29)\" d=\"M 244.154403 333.36 \nL 244.154403 7.2 \n\" style=\"fill:none;stroke:#ffffff;stroke-linecap:round;stroke-width:0.8;\"/>\n     </g>\n     <g id=\"text_3\">\n      <!-- 12.0 -->\n      <g style=\"fill:#262626;\" transform=\"translate(234.423935 347.517812)scale(0.1 -0.1)\">\n       <defs>\n        <path d=\"M 50.34375 8.453125 \nL 50.34375 0 \nL 3.03125 0 \nQ 2.9375 3.171875 4.046875 6.109375 \nQ 5.859375 10.9375 9.828125 15.625 \nQ 13.8125 20.3125 21.34375 26.46875 \nQ 33.015625 36.03125 37.109375 41.625 \nQ 41.21875 47.21875 41.21875 52.203125 \nQ 41.21875 57.421875 37.46875 61 \nQ 33.734375 64.59375 27.734375 64.59375 \nQ 21.390625 64.59375 17.578125 60.78125 \nQ 13.765625 56.984375 13.71875 50.25 \nL 4.6875 51.171875 \nQ 5.609375 61.28125 11.65625 66.578125 \nQ 17.71875 71.875 27.9375 71.875 \nQ 38.234375 71.875 44.234375 66.15625 \nQ 50.25 60.453125 50.25 52 \nQ 50.25 47.703125 48.484375 43.546875 \nQ 46.734375 39.40625 42.65625 34.8125 \nQ 38.578125 30.21875 29.109375 22.21875 \nQ 21.1875 15.578125 18.9375 13.203125 \nQ 16.703125 10.84375 15.234375 8.453125 \nz\n\" id=\"ArialMT-50\"/>\n        <path d=\"M 4.15625 35.296875 \nQ 4.15625 48 6.765625 55.734375 \nQ 9.375 63.484375 14.515625 67.671875 \nQ 19.671875 71.875 27.484375 71.875 \nQ 33.25 71.875 37.59375 69.546875 \nQ 41.9375 67.234375 44.765625 62.859375 \nQ 47.609375 58.5 49.21875 52.21875 \nQ 50.828125 45.953125 50.828125 35.296875 \nQ 50.828125 22.703125 48.234375 14.96875 \nQ 45.65625 7.234375 40.5 3 \nQ 35.359375 -1.21875 27.484375 -1.21875 \nQ 17.140625 -1.21875 11.234375 6.203125 \nQ 4.15625 15.140625 4.15625 35.296875 \nz\nM 13.1875 35.296875 \nQ 13.1875 17.671875 17.3125 11.828125 \nQ 21.4375 6 27.484375 6 \nQ 33.546875 6 37.671875 11.859375 \nQ 41.796875 17.71875 41.796875 35.296875 \nQ 41.796875 52.984375 37.671875 58.78125 \nQ 33.546875 64.59375 27.390625 64.59375 \nQ 21.34375 64.59375 17.71875 59.46875 \nQ 13.1875 52.9375 13.1875 35.296875 \nz\n\" id=\"ArialMT-48\"/>\n       </defs>\n       <use xlink:href=\"#ArialMT-49\"/>\n       <use x=\"55.615234\" xlink:href=\"#ArialMT-50\"/>\n       <use x=\"111.230469\" xlink:href=\"#ArialMT-46\"/>\n       <use x=\"139.013672\" xlink:href=\"#ArialMT-48\"/>\n      </g>\n     </g>\n    </g>\n    <g id=\"xtick_4\">\n     <g id=\"line2d_4\">\n      <path clip-path=\"url(#pc229f1fc29)\" d=\"M 317.939527 333.36 \nL 317.939527 7.2 \n\" style=\"fill:none;stroke:#ffffff;stroke-linecap:round;stroke-width:0.8;\"/>\n     </g>\n     <g id=\"text_4\">\n      <!-- 12.2 -->\n      <g style=\"fill:#262626;\" transform=\"translate(308.209059 347.517812)scale(0.1 -0.1)\">\n       <use xlink:href=\"#ArialMT-49\"/>\n       <use x=\"55.615234\" xlink:href=\"#ArialMT-50\"/>\n       <use x=\"111.230469\" xlink:href=\"#ArialMT-46\"/>\n       <use x=\"139.013672\" xlink:href=\"#ArialMT-50\"/>\n      </g>\n     </g>\n    </g>\n    <g id=\"xtick_5\">\n     <g id=\"line2d_5\">\n      <path clip-path=\"url(#pc229f1fc29)\" d=\"M 391.724651 333.36 \nL 391.724651 7.2 \n\" style=\"fill:none;stroke:#ffffff;stroke-linecap:round;stroke-width:0.8;\"/>\n     </g>\n     <g id=\"text_5\">\n      <!-- 12.4 -->\n      <g style=\"fill:#262626;\" transform=\"translate(381.994183 347.517812)scale(0.1 -0.1)\">\n       <defs>\n        <path d=\"M 32.328125 0 \nL 32.328125 17.140625 \nL 1.265625 17.140625 \nL 1.265625 25.203125 \nL 33.9375 71.578125 \nL 41.109375 71.578125 \nL 41.109375 25.203125 \nL 50.78125 25.203125 \nL 50.78125 17.140625 \nL 41.109375 17.140625 \nL 41.109375 0 \nz\nM 32.328125 25.203125 \nL 32.328125 57.46875 \nL 9.90625 25.203125 \nz\n\" id=\"ArialMT-52\"/>\n       </defs>\n       <use xlink:href=\"#ArialMT-49\"/>\n       <use x=\"55.615234\" xlink:href=\"#ArialMT-50\"/>\n       <use x=\"111.230469\" xlink:href=\"#ArialMT-46\"/>\n       <use x=\"139.013672\" xlink:href=\"#ArialMT-52\"/>\n      </g>\n     </g>\n    </g>\n    <g id=\"text_6\">\n     <!-- Length of Title -->\n     <g style=\"fill:#262626;\" transform=\"translate(212.745028 360.785)scale(0.1 -0.1)\">\n      <defs>\n       <path d=\"M 7.328125 0 \nL 7.328125 71.578125 \nL 16.796875 71.578125 \nL 16.796875 8.453125 \nL 52.046875 8.453125 \nL 52.046875 0 \nz\n\" id=\"ArialMT-76\"/>\n       <path d=\"M 42.09375 16.703125 \nL 51.171875 15.578125 \nQ 49.03125 7.625 43.21875 3.21875 \nQ 37.40625 -1.171875 28.375 -1.171875 \nQ 17 -1.171875 10.328125 5.828125 \nQ 3.65625 12.84375 3.65625 25.484375 \nQ 3.65625 38.578125 10.390625 45.796875 \nQ 17.140625 53.03125 27.875 53.03125 \nQ 38.28125 53.03125 44.875 45.953125 \nQ 51.46875 38.875 51.46875 26.03125 \nQ 51.46875 25.25 51.421875 23.6875 \nL 12.75 23.6875 \nQ 13.234375 15.140625 17.578125 10.59375 \nQ 21.921875 6.0625 28.421875 6.0625 \nQ 33.25 6.0625 36.671875 8.59375 \nQ 40.09375 11.140625 42.09375 16.703125 \nz\nM 13.234375 30.90625 \nL 42.1875 30.90625 \nQ 41.609375 37.453125 38.875 40.71875 \nQ 34.671875 45.796875 27.984375 45.796875 \nQ 21.921875 45.796875 17.796875 41.75 \nQ 13.671875 37.703125 13.234375 30.90625 \nz\n\" id=\"ArialMT-101\"/>\n       <path d=\"M 6.59375 0 \nL 6.59375 51.859375 \nL 14.5 51.859375 \nL 14.5 44.484375 \nQ 20.21875 53.03125 31 53.03125 \nQ 35.6875 53.03125 39.625 51.34375 \nQ 43.5625 49.65625 45.515625 46.921875 \nQ 47.46875 44.1875 48.25 40.4375 \nQ 48.734375 37.984375 48.734375 31.890625 \nL 48.734375 0 \nL 39.9375 0 \nL 39.9375 31.546875 \nQ 39.9375 36.921875 38.90625 39.578125 \nQ 37.890625 42.234375 35.28125 43.8125 \nQ 32.671875 45.40625 29.15625 45.40625 \nQ 23.53125 45.40625 19.453125 41.84375 \nQ 15.375 38.28125 15.375 28.328125 \nL 15.375 0 \nz\n\" id=\"ArialMT-110\"/>\n       <path d=\"M 4.984375 -4.296875 \nL 13.53125 -5.5625 \nQ 14.0625 -9.515625 16.5 -11.328125 \nQ 19.78125 -13.765625 25.4375 -13.765625 \nQ 31.546875 -13.765625 34.859375 -11.328125 \nQ 38.1875 -8.890625 39.359375 -4.5 \nQ 40.046875 -1.8125 39.984375 6.78125 \nQ 34.234375 0 25.640625 0 \nQ 14.9375 0 9.078125 7.71875 \nQ 3.21875 15.4375 3.21875 26.21875 \nQ 3.21875 33.640625 5.90625 39.90625 \nQ 8.59375 46.1875 13.6875 49.609375 \nQ 18.796875 53.03125 25.6875 53.03125 \nQ 34.859375 53.03125 40.828125 45.609375 \nL 40.828125 51.859375 \nL 48.921875 51.859375 \nL 48.921875 7.03125 \nQ 48.921875 -5.078125 46.453125 -10.125 \nQ 44 -15.1875 38.640625 -18.109375 \nQ 33.296875 -21.046875 25.484375 -21.046875 \nQ 16.21875 -21.046875 10.5 -16.875 \nQ 4.78125 -12.703125 4.984375 -4.296875 \nz\nM 12.25 26.859375 \nQ 12.25 16.65625 16.296875 11.96875 \nQ 20.359375 7.28125 26.46875 7.28125 \nQ 32.515625 7.28125 36.609375 11.9375 \nQ 40.71875 16.609375 40.71875 26.5625 \nQ 40.71875 36.078125 36.5 40.90625 \nQ 32.28125 45.75 26.3125 45.75 \nQ 20.453125 45.75 16.34375 40.984375 \nQ 12.25 36.234375 12.25 26.859375 \nz\n\" id=\"ArialMT-103\"/>\n       <path d=\"M 25.78125 7.859375 \nL 27.046875 0.09375 \nQ 23.34375 -0.6875 20.40625 -0.6875 \nQ 15.625 -0.6875 12.984375 0.828125 \nQ 10.359375 2.34375 9.28125 4.8125 \nQ 8.203125 7.28125 8.203125 15.1875 \nL 8.203125 45.015625 \nL 1.765625 45.015625 \nL 1.765625 51.859375 \nL 8.203125 51.859375 \nL 8.203125 64.703125 \nL 16.9375 69.96875 \nL 16.9375 51.859375 \nL 25.78125 51.859375 \nL 25.78125 45.015625 \nL 16.9375 45.015625 \nL 16.9375 14.703125 \nQ 16.9375 10.9375 17.40625 9.859375 \nQ 17.875 8.796875 18.921875 8.15625 \nQ 19.96875 7.515625 21.921875 7.515625 \nQ 23.390625 7.515625 25.78125 7.859375 \nz\n\" id=\"ArialMT-116\"/>\n       <path d=\"M 6.59375 0 \nL 6.59375 71.578125 \nL 15.375 71.578125 \nL 15.375 45.90625 \nQ 21.53125 53.03125 30.90625 53.03125 \nQ 36.671875 53.03125 40.921875 50.75 \nQ 45.171875 48.484375 47 44.484375 \nQ 48.828125 40.484375 48.828125 32.859375 \nL 48.828125 0 \nL 40.046875 0 \nL 40.046875 32.859375 \nQ 40.046875 39.453125 37.1875 42.453125 \nQ 34.328125 45.453125 29.109375 45.453125 \nQ 25.203125 45.453125 21.75 43.421875 \nQ 18.3125 41.40625 16.84375 37.9375 \nQ 15.375 34.46875 15.375 28.375 \nL 15.375 0 \nz\n\" id=\"ArialMT-104\"/>\n       <path id=\"ArialMT-32\"/>\n       <path d=\"M 3.328125 25.921875 \nQ 3.328125 40.328125 11.328125 47.265625 \nQ 18.015625 53.03125 27.640625 53.03125 \nQ 38.328125 53.03125 45.109375 46.015625 \nQ 51.90625 39.015625 51.90625 26.65625 \nQ 51.90625 16.65625 48.90625 10.90625 \nQ 45.90625 5.171875 40.15625 2 \nQ 34.421875 -1.171875 27.640625 -1.171875 \nQ 16.75 -1.171875 10.03125 5.8125 \nQ 3.328125 12.796875 3.328125 25.921875 \nz\nM 12.359375 25.921875 \nQ 12.359375 15.96875 16.703125 11.015625 \nQ 21.046875 6.0625 27.640625 6.0625 \nQ 34.1875 6.0625 38.53125 11.03125 \nQ 42.875 16.015625 42.875 26.21875 \nQ 42.875 35.84375 38.5 40.796875 \nQ 34.125 45.75 27.640625 45.75 \nQ 21.046875 45.75 16.703125 40.8125 \nQ 12.359375 35.890625 12.359375 25.921875 \nz\n\" id=\"ArialMT-111\"/>\n       <path d=\"M 8.6875 0 \nL 8.6875 45.015625 \nL 0.921875 45.015625 \nL 0.921875 51.859375 \nL 8.6875 51.859375 \nL 8.6875 57.375 \nQ 8.6875 62.59375 9.625 65.140625 \nQ 10.890625 68.5625 14.078125 70.671875 \nQ 17.28125 72.796875 23.046875 72.796875 \nQ 26.765625 72.796875 31.25 71.921875 \nL 29.9375 64.265625 \nQ 27.203125 64.75 24.75 64.75 \nQ 20.75 64.75 19.09375 63.03125 \nQ 17.4375 61.328125 17.4375 56.640625 \nL 17.4375 51.859375 \nL 27.546875 51.859375 \nL 27.546875 45.015625 \nL 17.4375 45.015625 \nL 17.4375 0 \nz\n\" id=\"ArialMT-102\"/>\n       <path d=\"M 25.921875 0 \nL 25.921875 63.140625 \nL 2.34375 63.140625 \nL 2.34375 71.578125 \nL 59.078125 71.578125 \nL 59.078125 63.140625 \nL 35.40625 63.140625 \nL 35.40625 0 \nz\n\" id=\"ArialMT-84\"/>\n       <path d=\"M 6.640625 61.46875 \nL 6.640625 71.578125 \nL 15.4375 71.578125 \nL 15.4375 61.46875 \nz\nM 6.640625 0 \nL 6.640625 51.859375 \nL 15.4375 51.859375 \nL 15.4375 0 \nz\n\" id=\"ArialMT-105\"/>\n       <path d=\"M 6.390625 0 \nL 6.390625 71.578125 \nL 15.1875 71.578125 \nL 15.1875 0 \nz\n\" id=\"ArialMT-108\"/>\n      </defs>\n      <use xlink:href=\"#ArialMT-76\"/>\n      <use x=\"55.615234\" xlink:href=\"#ArialMT-101\"/>\n      <use x=\"111.230469\" xlink:href=\"#ArialMT-110\"/>\n      <use x=\"166.845703\" xlink:href=\"#ArialMT-103\"/>\n      <use x=\"222.460938\" xlink:href=\"#ArialMT-116\"/>\n      <use x=\"250.244141\" xlink:href=\"#ArialMT-104\"/>\n      <use x=\"305.859375\" xlink:href=\"#ArialMT-32\"/>\n      <use x=\"333.642578\" xlink:href=\"#ArialMT-111\"/>\n      <use x=\"389.257812\" xlink:href=\"#ArialMT-102\"/>\n      <use x=\"417.041016\" xlink:href=\"#ArialMT-32\"/>\n      <use x=\"443.074219\" xlink:href=\"#ArialMT-84\"/>\n      <use x=\"500.408203\" xlink:href=\"#ArialMT-105\"/>\n      <use x=\"522.625\" xlink:href=\"#ArialMT-116\"/>\n      <use x=\"550.408203\" xlink:href=\"#ArialMT-108\"/>\n      <use x=\"572.625\" xlink:href=\"#ArialMT-101\"/>\n     </g>\n    </g>\n   </g>\n   <g id=\"matplotlib.axis_2\">\n    <g id=\"ytick_1\">\n     <g id=\"line2d_6\">\n      <path clip-path=\"url(#pc229f1fc29)\" d=\"M 41.245313 333.36 \nL 447.063494 333.36 \n\" style=\"fill:none;stroke:#ffffff;stroke-linecap:round;stroke-width:0.8;\"/>\n     </g>\n     <g id=\"text_7\">\n      <!-- 0.0 -->\n      <g style=\"fill:#262626;\" transform=\"translate(20.345313 336.938906)scale(0.1 -0.1)\">\n       <use xlink:href=\"#ArialMT-48\"/>\n       <use x=\"55.615234\" xlink:href=\"#ArialMT-46\"/>\n       <use x=\"83.398438\" xlink:href=\"#ArialMT-48\"/>\n      </g>\n     </g>\n    </g>\n    <g id=\"ytick_2\">\n     <g id=\"line2d_7\">\n      <path clip-path=\"url(#pc229f1fc29)\" d=\"M 41.245313 271.234286 \nL 447.063494 271.234286 \n\" style=\"fill:none;stroke:#ffffff;stroke-linecap:round;stroke-width:0.8;\"/>\n     </g>\n     <g id=\"text_8\">\n      <!-- 0.2 -->\n      <g style=\"fill:#262626;\" transform=\"translate(20.345313 274.813192)scale(0.1 -0.1)\">\n       <use xlink:href=\"#ArialMT-48\"/>\n       <use x=\"55.615234\" xlink:href=\"#ArialMT-46\"/>\n       <use x=\"83.398438\" xlink:href=\"#ArialMT-50\"/>\n      </g>\n     </g>\n    </g>\n    <g id=\"ytick_3\">\n     <g id=\"line2d_8\">\n      <path clip-path=\"url(#pc229f1fc29)\" d=\"M 41.245313 209.108571 \nL 447.063494 209.108571 \n\" style=\"fill:none;stroke:#ffffff;stroke-linecap:round;stroke-width:0.8;\"/>\n     </g>\n     <g id=\"text_9\">\n      <!-- 0.4 -->\n      <g style=\"fill:#262626;\" transform=\"translate(20.345313 212.687478)scale(0.1 -0.1)\">\n       <use xlink:href=\"#ArialMT-48\"/>\n       <use x=\"55.615234\" xlink:href=\"#ArialMT-46\"/>\n       <use x=\"83.398438\" xlink:href=\"#ArialMT-52\"/>\n      </g>\n     </g>\n    </g>\n    <g id=\"ytick_4\">\n     <g id=\"line2d_9\">\n      <path clip-path=\"url(#pc229f1fc29)\" d=\"M 41.245313 146.982857 \nL 447.063494 146.982857 \n\" style=\"fill:none;stroke:#ffffff;stroke-linecap:round;stroke-width:0.8;\"/>\n     </g>\n     <g id=\"text_10\">\n      <!-- 0.6 -->\n      <g style=\"fill:#262626;\" transform=\"translate(20.345313 150.561763)scale(0.1 -0.1)\">\n       <use xlink:href=\"#ArialMT-48\"/>\n       <use x=\"55.615234\" xlink:href=\"#ArialMT-46\"/>\n       <use x=\"83.398438\" xlink:href=\"#ArialMT-54\"/>\n      </g>\n     </g>\n    </g>\n    <g id=\"ytick_5\">\n     <g id=\"line2d_10\">\n      <path clip-path=\"url(#pc229f1fc29)\" d=\"M 41.245313 84.857143 \nL 447.063494 84.857143 \n\" style=\"fill:none;stroke:#ffffff;stroke-linecap:round;stroke-width:0.8;\"/>\n     </g>\n     <g id=\"text_11\">\n      <!-- 0.8 -->\n      <g style=\"fill:#262626;\" transform=\"translate(20.345313 88.436049)scale(0.1 -0.1)\">\n       <use xlink:href=\"#ArialMT-48\"/>\n       <use x=\"55.615234\" xlink:href=\"#ArialMT-46\"/>\n       <use x=\"83.398438\" xlink:href=\"#ArialMT-56\"/>\n      </g>\n     </g>\n    </g>\n    <g id=\"ytick_6\">\n     <g id=\"line2d_11\">\n      <path clip-path=\"url(#pc229f1fc29)\" d=\"M 41.245313 22.731429 \nL 447.063494 22.731429 \n\" style=\"fill:none;stroke:#ffffff;stroke-linecap:round;stroke-width:0.8;\"/>\n     </g>\n     <g id=\"text_12\">\n      <!-- 1.0 -->\n      <g style=\"fill:#262626;\" transform=\"translate(20.345313 26.310335)scale(0.1 -0.1)\">\n       <use xlink:href=\"#ArialMT-49\"/>\n       <use x=\"55.615234\" xlink:href=\"#ArialMT-46\"/>\n       <use x=\"83.398438\" xlink:href=\"#ArialMT-48\"/>\n      </g>\n     </g>\n    </g>\n    <g id=\"text_13\">\n     <!-- Count -->\n     <g style=\"fill:#262626;\" transform=\"translate(14.357813 183.621406)rotate(-90)scale(0.1 -0.1)\">\n      <defs>\n       <path d=\"M 58.796875 25.09375 \nL 68.265625 22.703125 \nQ 65.28125 11.03125 57.546875 4.90625 \nQ 49.8125 -1.21875 38.625 -1.21875 \nQ 27.046875 -1.21875 19.796875 3.484375 \nQ 12.546875 8.203125 8.765625 17.140625 \nQ 4.984375 26.078125 4.984375 36.328125 \nQ 4.984375 47.515625 9.25 55.828125 \nQ 13.53125 64.15625 21.40625 68.46875 \nQ 29.296875 72.796875 38.765625 72.796875 \nQ 49.515625 72.796875 56.828125 67.328125 \nQ 64.15625 61.859375 67.046875 51.953125 \nL 57.71875 49.75 \nQ 55.21875 57.5625 50.484375 61.125 \nQ 45.75 64.703125 38.578125 64.703125 \nQ 30.328125 64.703125 24.78125 60.734375 \nQ 19.234375 56.78125 16.984375 50.109375 \nQ 14.75 43.453125 14.75 36.375 \nQ 14.75 27.25 17.40625 20.4375 \nQ 20.0625 13.625 25.671875 10.25 \nQ 31.296875 6.890625 37.84375 6.890625 \nQ 45.796875 6.890625 51.3125 11.46875 \nQ 56.84375 16.0625 58.796875 25.09375 \nz\n\" id=\"ArialMT-67\"/>\n       <path d=\"M 40.578125 0 \nL 40.578125 7.625 \nQ 34.515625 -1.171875 24.125 -1.171875 \nQ 19.53125 -1.171875 15.546875 0.578125 \nQ 11.578125 2.34375 9.640625 5 \nQ 7.71875 7.671875 6.9375 11.53125 \nQ 6.390625 14.109375 6.390625 19.734375 \nL 6.390625 51.859375 \nL 15.1875 51.859375 \nL 15.1875 23.09375 \nQ 15.1875 16.21875 15.71875 13.8125 \nQ 16.546875 10.359375 19.234375 8.375 \nQ 21.921875 6.390625 25.875 6.390625 \nQ 29.828125 6.390625 33.296875 8.421875 \nQ 36.765625 10.453125 38.203125 13.9375 \nQ 39.65625 17.4375 39.65625 24.078125 \nL 39.65625 51.859375 \nL 48.4375 51.859375 \nL 48.4375 0 \nz\n\" id=\"ArialMT-117\"/>\n      </defs>\n      <use xlink:href=\"#ArialMT-67\"/>\n      <use x=\"72.216797\" xlink:href=\"#ArialMT-111\"/>\n      <use x=\"127.832031\" xlink:href=\"#ArialMT-117\"/>\n      <use x=\"183.447266\" xlink:href=\"#ArialMT-110\"/>\n      <use x=\"239.0625\" xlink:href=\"#ArialMT-116\"/>\n     </g>\n    </g>\n   </g>\n   <g id=\"patch_3\">\n    <path clip-path=\"url(#pc229f1fc29)\" d=\"M 59.691593 333.36 \nL 67.070106 333.36 \nL 67.070106 333.36 \nL 59.691593 333.36 \nz\n\" style=\"fill:#1f77b4;fill-opacity:0.5;stroke:#ffffff;stroke-linejoin:miter;stroke-width:0.737851;\"/>\n   </g>\n   <g id=\"patch_4\">\n    <path clip-path=\"url(#pc229f1fc29)\" d=\"M 67.070106 333.36 \nL 74.448618 333.36 \nL 74.448618 333.36 \nL 67.070106 333.36 \nz\n\" style=\"fill:#1f77b4;fill-opacity:0.5;stroke:#ffffff;stroke-linejoin:miter;stroke-width:0.737851;\"/>\n   </g>\n   <g id=\"patch_5\">\n    <path clip-path=\"url(#pc229f1fc29)\" d=\"M 74.448618 333.36 \nL 81.827131 333.36 \nL 81.827131 333.36 \nL 74.448618 333.36 \nz\n\" style=\"fill:#1f77b4;fill-opacity:0.5;stroke:#ffffff;stroke-linejoin:miter;stroke-width:0.737851;\"/>\n   </g>\n   <g id=\"patch_6\">\n    <path clip-path=\"url(#pc229f1fc29)\" d=\"M 81.827131 333.36 \nL 89.205643 333.36 \nL 89.205643 333.36 \nL 81.827131 333.36 \nz\n\" style=\"fill:#1f77b4;fill-opacity:0.5;stroke:#ffffff;stroke-linejoin:miter;stroke-width:0.737851;\"/>\n   </g>\n   <g id=\"patch_7\">\n    <path clip-path=\"url(#pc229f1fc29)\" d=\"M 89.205643 333.36 \nL 96.584155 333.36 \nL 96.584155 333.36 \nL 89.205643 333.36 \nz\n\" style=\"fill:#1f77b4;fill-opacity:0.5;stroke:#ffffff;stroke-linejoin:miter;stroke-width:0.737851;\"/>\n   </g>\n   <g id=\"patch_8\">\n    <path clip-path=\"url(#pc229f1fc29)\" d=\"M 96.584155 333.36 \nL 103.962668 333.36 \nL 103.962668 333.36 \nL 96.584155 333.36 \nz\n\" style=\"fill:#1f77b4;fill-opacity:0.5;stroke:#ffffff;stroke-linejoin:miter;stroke-width:0.737851;\"/>\n   </g>\n   <g id=\"patch_9\">\n    <path clip-path=\"url(#pc229f1fc29)\" d=\"M 103.962668 333.36 \nL 111.34118 333.36 \nL 111.34118 333.36 \nL 103.962668 333.36 \nz\n\" style=\"fill:#1f77b4;fill-opacity:0.5;stroke:#ffffff;stroke-linejoin:miter;stroke-width:0.737851;\"/>\n   </g>\n   <g id=\"patch_10\">\n    <path clip-path=\"url(#pc229f1fc29)\" d=\"M 111.34118 333.36 \nL 118.719693 333.36 \nL 118.719693 333.36 \nL 111.34118 333.36 \nz\n\" style=\"fill:#1f77b4;fill-opacity:0.5;stroke:#ffffff;stroke-linejoin:miter;stroke-width:0.737851;\"/>\n   </g>\n   <g id=\"patch_11\">\n    <path clip-path=\"url(#pc229f1fc29)\" d=\"M 118.719693 333.36 \nL 126.098205 333.36 \nL 126.098205 333.36 \nL 118.719693 333.36 \nz\n\" style=\"fill:#1f77b4;fill-opacity:0.5;stroke:#ffffff;stroke-linejoin:miter;stroke-width:0.737851;\"/>\n   </g>\n   <g id=\"patch_12\">\n    <path clip-path=\"url(#pc229f1fc29)\" d=\"M 126.098205 333.36 \nL 133.476717 333.36 \nL 133.476717 333.36 \nL 126.098205 333.36 \nz\n\" style=\"fill:#1f77b4;fill-opacity:0.5;stroke:#ffffff;stroke-linejoin:miter;stroke-width:0.737851;\"/>\n   </g>\n   <g id=\"patch_13\">\n    <path clip-path=\"url(#pc229f1fc29)\" d=\"M 133.476717 333.36 \nL 140.85523 333.36 \nL 140.85523 333.36 \nL 133.476717 333.36 \nz\n\" style=\"fill:#1f77b4;fill-opacity:0.5;stroke:#ffffff;stroke-linejoin:miter;stroke-width:0.737851;\"/>\n   </g>\n   <g id=\"patch_14\">\n    <path clip-path=\"url(#pc229f1fc29)\" d=\"M 140.85523 333.36 \nL 148.233742 333.36 \nL 148.233742 333.36 \nL 140.85523 333.36 \nz\n\" style=\"fill:#1f77b4;fill-opacity:0.5;stroke:#ffffff;stroke-linejoin:miter;stroke-width:0.737851;\"/>\n   </g>\n   <g id=\"patch_15\">\n    <path clip-path=\"url(#pc229f1fc29)\" d=\"M 148.233742 333.36 \nL 155.612255 333.36 \nL 155.612255 333.36 \nL 148.233742 333.36 \nz\n\" style=\"fill:#1f77b4;fill-opacity:0.5;stroke:#ffffff;stroke-linejoin:miter;stroke-width:0.737851;\"/>\n   </g>\n   <g id=\"patch_16\">\n    <path clip-path=\"url(#pc229f1fc29)\" d=\"M 155.612255 333.36 \nL 162.990767 333.36 \nL 162.990767 333.36 \nL 155.612255 333.36 \nz\n\" style=\"fill:#1f77b4;fill-opacity:0.5;stroke:#ffffff;stroke-linejoin:miter;stroke-width:0.737851;\"/>\n   </g>\n   <g id=\"patch_17\">\n    <path clip-path=\"url(#pc229f1fc29)\" d=\"M 162.990767 333.36 \nL 170.369279 333.36 \nL 170.369279 333.36 \nL 162.990767 333.36 \nz\n\" style=\"fill:#1f77b4;fill-opacity:0.5;stroke:#ffffff;stroke-linejoin:miter;stroke-width:0.737851;\"/>\n   </g>\n   <g id=\"patch_18\">\n    <path clip-path=\"url(#pc229f1fc29)\" d=\"M 170.369279 333.36 \nL 177.747792 333.36 \nL 177.747792 333.36 \nL 170.369279 333.36 \nz\n\" style=\"fill:#1f77b4;fill-opacity:0.5;stroke:#ffffff;stroke-linejoin:miter;stroke-width:0.737851;\"/>\n   </g>\n   <g id=\"patch_19\">\n    <path clip-path=\"url(#pc229f1fc29)\" d=\"M 177.747792 333.36 \nL 185.126304 333.36 \nL 185.126304 333.36 \nL 177.747792 333.36 \nz\n\" style=\"fill:#1f77b4;fill-opacity:0.5;stroke:#ffffff;stroke-linejoin:miter;stroke-width:0.737851;\"/>\n   </g>\n   <g id=\"patch_20\">\n    <path clip-path=\"url(#pc229f1fc29)\" d=\"M 185.126304 333.36 \nL 192.504817 333.36 \nL 192.504817 333.36 \nL 185.126304 333.36 \nz\n\" style=\"fill:#1f77b4;fill-opacity:0.5;stroke:#ffffff;stroke-linejoin:miter;stroke-width:0.737851;\"/>\n   </g>\n   <g id=\"patch_21\">\n    <path clip-path=\"url(#pc229f1fc29)\" d=\"M 192.504817 333.36 \nL 199.883329 333.36 \nL 199.883329 333.36 \nL 192.504817 333.36 \nz\n\" style=\"fill:#1f77b4;fill-opacity:0.5;stroke:#ffffff;stroke-linejoin:miter;stroke-width:0.737851;\"/>\n   </g>\n   <g id=\"patch_22\">\n    <path clip-path=\"url(#pc229f1fc29)\" d=\"M 199.883329 333.36 \nL 207.261841 333.36 \nL 207.261841 333.36 \nL 199.883329 333.36 \nz\n\" style=\"fill:#1f77b4;fill-opacity:0.5;stroke:#ffffff;stroke-linejoin:miter;stroke-width:0.737851;\"/>\n   </g>\n   <g id=\"patch_23\">\n    <path clip-path=\"url(#pc229f1fc29)\" d=\"M 207.261841 333.36 \nL 214.640354 333.36 \nL 214.640354 333.36 \nL 207.261841 333.36 \nz\n\" style=\"fill:#1f77b4;fill-opacity:0.5;stroke:#ffffff;stroke-linejoin:miter;stroke-width:0.737851;\"/>\n   </g>\n   <g id=\"patch_24\">\n    <path clip-path=\"url(#pc229f1fc29)\" d=\"M 214.640354 333.36 \nL 222.018866 333.36 \nL 222.018866 333.36 \nL 214.640354 333.36 \nz\n\" style=\"fill:#1f77b4;fill-opacity:0.5;stroke:#ffffff;stroke-linejoin:miter;stroke-width:0.737851;\"/>\n   </g>\n   <g id=\"patch_25\">\n    <path clip-path=\"url(#pc229f1fc29)\" d=\"M 222.018866 333.36 \nL 229.397379 333.36 \nL 229.397379 333.36 \nL 222.018866 333.36 \nz\n\" style=\"fill:#1f77b4;fill-opacity:0.5;stroke:#ffffff;stroke-linejoin:miter;stroke-width:0.737851;\"/>\n   </g>\n   <g id=\"patch_26\">\n    <path clip-path=\"url(#pc229f1fc29)\" d=\"M 229.397379 333.36 \nL 236.775891 333.36 \nL 236.775891 333.36 \nL 229.397379 333.36 \nz\n\" style=\"fill:#1f77b4;fill-opacity:0.5;stroke:#ffffff;stroke-linejoin:miter;stroke-width:0.737851;\"/>\n   </g>\n   <g id=\"patch_27\">\n    <path clip-path=\"url(#pc229f1fc29)\" d=\"M 236.775891 333.36 \nL 244.154403 333.36 \nL 244.154403 333.36 \nL 236.775891 333.36 \nz\n\" style=\"fill:#1f77b4;fill-opacity:0.5;stroke:#ffffff;stroke-linejoin:miter;stroke-width:0.737851;\"/>\n   </g>\n   <g id=\"patch_28\">\n    <path clip-path=\"url(#pc229f1fc29)\" d=\"M 244.154403 333.36 \nL 251.532916 333.36 \nL 251.532916 22.731429 \nL 244.154403 22.731429 \nz\n\" style=\"fill:#1f77b4;fill-opacity:0.5;stroke:#ffffff;stroke-linejoin:miter;stroke-width:0.737851;\"/>\n   </g>\n   <g id=\"patch_29\">\n    <path clip-path=\"url(#pc229f1fc29)\" d=\"M 251.532916 333.36 \nL 258.911428 333.36 \nL 258.911428 333.36 \nL 251.532916 333.36 \nz\n\" style=\"fill:#1f77b4;fill-opacity:0.5;stroke:#ffffff;stroke-linejoin:miter;stroke-width:0.737851;\"/>\n   </g>\n   <g id=\"patch_30\">\n    <path clip-path=\"url(#pc229f1fc29)\" d=\"M 258.911428 333.36 \nL 266.289941 333.36 \nL 266.289941 333.36 \nL 258.911428 333.36 \nz\n\" style=\"fill:#1f77b4;fill-opacity:0.5;stroke:#ffffff;stroke-linejoin:miter;stroke-width:0.737851;\"/>\n   </g>\n   <g id=\"patch_31\">\n    <path clip-path=\"url(#pc229f1fc29)\" d=\"M 266.289941 333.36 \nL 273.668453 333.36 \nL 273.668453 333.36 \nL 266.289941 333.36 \nz\n\" style=\"fill:#1f77b4;fill-opacity:0.5;stroke:#ffffff;stroke-linejoin:miter;stroke-width:0.737851;\"/>\n   </g>\n   <g id=\"patch_32\">\n    <path clip-path=\"url(#pc229f1fc29)\" d=\"M 273.668453 333.36 \nL 281.046965 333.36 \nL 281.046965 333.36 \nL 273.668453 333.36 \nz\n\" style=\"fill:#1f77b4;fill-opacity:0.5;stroke:#ffffff;stroke-linejoin:miter;stroke-width:0.737851;\"/>\n   </g>\n   <g id=\"patch_33\">\n    <path clip-path=\"url(#pc229f1fc29)\" d=\"M 281.046965 333.36 \nL 288.425478 333.36 \nL 288.425478 333.36 \nL 281.046965 333.36 \nz\n\" style=\"fill:#1f77b4;fill-opacity:0.5;stroke:#ffffff;stroke-linejoin:miter;stroke-width:0.737851;\"/>\n   </g>\n   <g id=\"patch_34\">\n    <path clip-path=\"url(#pc229f1fc29)\" d=\"M 288.425478 333.36 \nL 295.80399 333.36 \nL 295.80399 333.36 \nL 288.425478 333.36 \nz\n\" style=\"fill:#1f77b4;fill-opacity:0.5;stroke:#ffffff;stroke-linejoin:miter;stroke-width:0.737851;\"/>\n   </g>\n   <g id=\"patch_35\">\n    <path clip-path=\"url(#pc229f1fc29)\" d=\"M 295.80399 333.36 \nL 303.182503 333.36 \nL 303.182503 333.36 \nL 295.80399 333.36 \nz\n\" style=\"fill:#1f77b4;fill-opacity:0.5;stroke:#ffffff;stroke-linejoin:miter;stroke-width:0.737851;\"/>\n   </g>\n   <g id=\"patch_36\">\n    <path clip-path=\"url(#pc229f1fc29)\" d=\"M 303.182503 333.36 \nL 310.561015 333.36 \nL 310.561015 333.36 \nL 303.182503 333.36 \nz\n\" style=\"fill:#1f77b4;fill-opacity:0.5;stroke:#ffffff;stroke-linejoin:miter;stroke-width:0.737851;\"/>\n   </g>\n   <g id=\"patch_37\">\n    <path clip-path=\"url(#pc229f1fc29)\" d=\"M 310.561015 333.36 \nL 317.939527 333.36 \nL 317.939527 333.36 \nL 310.561015 333.36 \nz\n\" style=\"fill:#1f77b4;fill-opacity:0.5;stroke:#ffffff;stroke-linejoin:miter;stroke-width:0.737851;\"/>\n   </g>\n   <g id=\"patch_38\">\n    <path clip-path=\"url(#pc229f1fc29)\" d=\"M 317.939527 333.36 \nL 325.31804 333.36 \nL 325.31804 333.36 \nL 317.939527 333.36 \nz\n\" style=\"fill:#1f77b4;fill-opacity:0.5;stroke:#ffffff;stroke-linejoin:miter;stroke-width:0.737851;\"/>\n   </g>\n   <g id=\"patch_39\">\n    <path clip-path=\"url(#pc229f1fc29)\" d=\"M 325.31804 333.36 \nL 332.696552 333.36 \nL 332.696552 333.36 \nL 325.31804 333.36 \nz\n\" style=\"fill:#1f77b4;fill-opacity:0.5;stroke:#ffffff;stroke-linejoin:miter;stroke-width:0.737851;\"/>\n   </g>\n   <g id=\"patch_40\">\n    <path clip-path=\"url(#pc229f1fc29)\" d=\"M 332.696552 333.36 \nL 340.075065 333.36 \nL 340.075065 333.36 \nL 332.696552 333.36 \nz\n\" style=\"fill:#1f77b4;fill-opacity:0.5;stroke:#ffffff;stroke-linejoin:miter;stroke-width:0.737851;\"/>\n   </g>\n   <g id=\"patch_41\">\n    <path clip-path=\"url(#pc229f1fc29)\" d=\"M 340.075065 333.36 \nL 347.453577 333.36 \nL 347.453577 333.36 \nL 340.075065 333.36 \nz\n\" style=\"fill:#1f77b4;fill-opacity:0.5;stroke:#ffffff;stroke-linejoin:miter;stroke-width:0.737851;\"/>\n   </g>\n   <g id=\"patch_42\">\n    <path clip-path=\"url(#pc229f1fc29)\" d=\"M 347.453577 333.36 \nL 354.832089 333.36 \nL 354.832089 333.36 \nL 347.453577 333.36 \nz\n\" style=\"fill:#1f77b4;fill-opacity:0.5;stroke:#ffffff;stroke-linejoin:miter;stroke-width:0.737851;\"/>\n   </g>\n   <g id=\"patch_43\">\n    <path clip-path=\"url(#pc229f1fc29)\" d=\"M 354.832089 333.36 \nL 362.210602 333.36 \nL 362.210602 333.36 \nL 354.832089 333.36 \nz\n\" style=\"fill:#1f77b4;fill-opacity:0.5;stroke:#ffffff;stroke-linejoin:miter;stroke-width:0.737851;\"/>\n   </g>\n   <g id=\"patch_44\">\n    <path clip-path=\"url(#pc229f1fc29)\" d=\"M 362.210602 333.36 \nL 369.589114 333.36 \nL 369.589114 333.36 \nL 362.210602 333.36 \nz\n\" style=\"fill:#1f77b4;fill-opacity:0.5;stroke:#ffffff;stroke-linejoin:miter;stroke-width:0.737851;\"/>\n   </g>\n   <g id=\"patch_45\">\n    <path clip-path=\"url(#pc229f1fc29)\" d=\"M 369.589114 333.36 \nL 376.967627 333.36 \nL 376.967627 333.36 \nL 369.589114 333.36 \nz\n\" style=\"fill:#1f77b4;fill-opacity:0.5;stroke:#ffffff;stroke-linejoin:miter;stroke-width:0.737851;\"/>\n   </g>\n   <g id=\"patch_46\">\n    <path clip-path=\"url(#pc229f1fc29)\" d=\"M 376.967627 333.36 \nL 384.346139 333.36 \nL 384.346139 333.36 \nL 376.967627 333.36 \nz\n\" style=\"fill:#1f77b4;fill-opacity:0.5;stroke:#ffffff;stroke-linejoin:miter;stroke-width:0.737851;\"/>\n   </g>\n   <g id=\"patch_47\">\n    <path clip-path=\"url(#pc229f1fc29)\" d=\"M 384.346139 333.36 \nL 391.724651 333.36 \nL 391.724651 333.36 \nL 384.346139 333.36 \nz\n\" style=\"fill:#1f77b4;fill-opacity:0.5;stroke:#ffffff;stroke-linejoin:miter;stroke-width:0.737851;\"/>\n   </g>\n   <g id=\"patch_48\">\n    <path clip-path=\"url(#pc229f1fc29)\" d=\"M 391.724651 333.36 \nL 399.103164 333.36 \nL 399.103164 333.36 \nL 391.724651 333.36 \nz\n\" style=\"fill:#1f77b4;fill-opacity:0.5;stroke:#ffffff;stroke-linejoin:miter;stroke-width:0.737851;\"/>\n   </g>\n   <g id=\"patch_49\">\n    <path clip-path=\"url(#pc229f1fc29)\" d=\"M 399.103164 333.36 \nL 406.481676 333.36 \nL 406.481676 333.36 \nL 399.103164 333.36 \nz\n\" style=\"fill:#1f77b4;fill-opacity:0.5;stroke:#ffffff;stroke-linejoin:miter;stroke-width:0.737851;\"/>\n   </g>\n   <g id=\"patch_50\">\n    <path clip-path=\"url(#pc229f1fc29)\" d=\"M 406.481676 333.36 \nL 413.860189 333.36 \nL 413.860189 333.36 \nL 406.481676 333.36 \nz\n\" style=\"fill:#1f77b4;fill-opacity:0.5;stroke:#ffffff;stroke-linejoin:miter;stroke-width:0.737851;\"/>\n   </g>\n   <g id=\"patch_51\">\n    <path clip-path=\"url(#pc229f1fc29)\" d=\"M 413.860189 333.36 \nL 421.238701 333.36 \nL 421.238701 333.36 \nL 413.860189 333.36 \nz\n\" style=\"fill:#1f77b4;fill-opacity:0.5;stroke:#ffffff;stroke-linejoin:miter;stroke-width:0.737851;\"/>\n   </g>\n   <g id=\"patch_52\">\n    <path clip-path=\"url(#pc229f1fc29)\" d=\"M 421.238701 333.36 \nL 428.617213 333.36 \nL 428.617213 333.36 \nL 421.238701 333.36 \nz\n\" style=\"fill:#1f77b4;fill-opacity:0.5;stroke:#ffffff;stroke-linejoin:miter;stroke-width:0.737851;\"/>\n   </g>\n   <g id=\"patch_53\">\n    <path d=\"M 41.245313 333.36 \nL 41.245313 7.2 \n\" style=\"fill:none;stroke:#ffffff;stroke-linecap:square;stroke-linejoin:miter;stroke-width:0.8;\"/>\n   </g>\n   <g id=\"patch_54\">\n    <path d=\"M 447.063494 333.36 \nL 447.063494 7.2 \n\" style=\"fill:none;stroke:#ffffff;stroke-linecap:square;stroke-linejoin:miter;stroke-width:0.8;\"/>\n   </g>\n   <g id=\"patch_55\">\n    <path d=\"M 41.245313 333.36 \nL 447.063494 333.36 \n\" style=\"fill:none;stroke:#ffffff;stroke-linecap:square;stroke-linejoin:miter;stroke-width:0.8;\"/>\n   </g>\n   <g id=\"patch_56\">\n    <path d=\"M 41.245313 7.2 \nL 447.063494 7.2 \n\" style=\"fill:none;stroke:#ffffff;stroke-linecap:square;stroke-linejoin:miter;stroke-width:0.8;\"/>\n   </g>\n  </g>\n  <g id=\"axes_2\">\n   <g id=\"patch_57\">\n    <path d=\"M 528.227131 333.36 \nL 934.045313 333.36 \nL 934.045313 7.2 \nL 528.227131 7.2 \nz\n\" style=\"fill:#eaeaf2;\"/>\n   </g>\n   <g id=\"matplotlib.axis_3\">\n    <g id=\"xtick_6\">\n     <g id=\"line2d_12\">\n      <path clip-path=\"url(#pece3fc1e72)\" d=\"M 583.565974 333.36 \nL 583.565974 7.2 \n\" style=\"fill:none;stroke:#ffffff;stroke-linecap:round;stroke-width:0.8;\"/>\n     </g>\n     <g id=\"text_14\">\n      <!-- 231.6 -->\n      <g style=\"fill:#262626;\" transform=\"translate(571.055036 347.517812)scale(0.1 -0.1)\">\n       <defs>\n        <path d=\"M 4.203125 18.890625 \nL 12.984375 20.0625 \nQ 14.5 12.59375 18.140625 9.296875 \nQ 21.78125 6 27 6 \nQ 33.203125 6 37.46875 10.296875 \nQ 41.75 14.59375 41.75 20.953125 \nQ 41.75 27 37.796875 30.921875 \nQ 33.84375 34.859375 27.734375 34.859375 \nQ 25.25 34.859375 21.53125 33.890625 \nL 22.515625 41.609375 \nQ 23.390625 41.5 23.921875 41.5 \nQ 29.546875 41.5 34.03125 44.421875 \nQ 38.53125 47.359375 38.53125 53.46875 \nQ 38.53125 58.296875 35.25 61.46875 \nQ 31.984375 64.65625 26.8125 64.65625 \nQ 21.6875 64.65625 18.265625 61.421875 \nQ 14.84375 58.203125 13.875 51.765625 \nL 5.078125 53.328125 \nQ 6.6875 62.15625 12.390625 67.015625 \nQ 18.109375 71.875 26.609375 71.875 \nQ 32.46875 71.875 37.390625 69.359375 \nQ 42.328125 66.84375 44.9375 62.5 \nQ 47.5625 58.15625 47.5625 53.265625 \nQ 47.5625 48.640625 45.0625 44.828125 \nQ 42.578125 41.015625 37.703125 38.765625 \nQ 44.046875 37.3125 47.5625 32.6875 \nQ 51.078125 28.078125 51.078125 21.140625 \nQ 51.078125 11.765625 44.234375 5.25 \nQ 37.40625 -1.265625 26.953125 -1.265625 \nQ 17.53125 -1.265625 11.296875 4.34375 \nQ 5.078125 9.96875 4.203125 18.890625 \nz\n\" id=\"ArialMT-51\"/>\n       </defs>\n       <use xlink:href=\"#ArialMT-50\"/>\n       <use x=\"55.615234\" xlink:href=\"#ArialMT-51\"/>\n       <use x=\"111.230469\" xlink:href=\"#ArialMT-49\"/>\n       <use x=\"166.845703\" xlink:href=\"#ArialMT-46\"/>\n       <use x=\"194.628906\" xlink:href=\"#ArialMT-54\"/>\n      </g>\n     </g>\n    </g>\n    <g id=\"xtick_7\">\n     <g id=\"line2d_13\">\n      <path clip-path=\"url(#pece3fc1e72)\" d=\"M 657.351098 333.36 \nL 657.351098 7.2 \n\" style=\"fill:none;stroke:#ffffff;stroke-linecap:round;stroke-width:0.8;\"/>\n     </g>\n     <g id=\"text_15\">\n      <!-- 231.8 -->\n      <g style=\"fill:#262626;\" transform=\"translate(644.84016 347.517812)scale(0.1 -0.1)\">\n       <use xlink:href=\"#ArialMT-50\"/>\n       <use x=\"55.615234\" xlink:href=\"#ArialMT-51\"/>\n       <use x=\"111.230469\" xlink:href=\"#ArialMT-49\"/>\n       <use x=\"166.845703\" xlink:href=\"#ArialMT-46\"/>\n       <use x=\"194.628906\" xlink:href=\"#ArialMT-56\"/>\n      </g>\n     </g>\n    </g>\n    <g id=\"xtick_8\">\n     <g id=\"line2d_14\">\n      <path clip-path=\"url(#pece3fc1e72)\" d=\"M 731.136222 333.36 \nL 731.136222 7.2 \n\" style=\"fill:none;stroke:#ffffff;stroke-linecap:round;stroke-width:0.8;\"/>\n     </g>\n     <g id=\"text_16\">\n      <!-- 232.0 -->\n      <g style=\"fill:#262626;\" transform=\"translate(718.625284 347.517812)scale(0.1 -0.1)\">\n       <use xlink:href=\"#ArialMT-50\"/>\n       <use x=\"55.615234\" xlink:href=\"#ArialMT-51\"/>\n       <use x=\"111.230469\" xlink:href=\"#ArialMT-50\"/>\n       <use x=\"166.845703\" xlink:href=\"#ArialMT-46\"/>\n       <use x=\"194.628906\" xlink:href=\"#ArialMT-48\"/>\n      </g>\n     </g>\n    </g>\n    <g id=\"xtick_9\">\n     <g id=\"line2d_15\">\n      <path clip-path=\"url(#pece3fc1e72)\" d=\"M 804.921346 333.36 \nL 804.921346 7.2 \n\" style=\"fill:none;stroke:#ffffff;stroke-linecap:round;stroke-width:0.8;\"/>\n     </g>\n     <g id=\"text_17\">\n      <!-- 232.2 -->\n      <g style=\"fill:#262626;\" transform=\"translate(792.410408 347.517812)scale(0.1 -0.1)\">\n       <use xlink:href=\"#ArialMT-50\"/>\n       <use x=\"55.615234\" xlink:href=\"#ArialMT-51\"/>\n       <use x=\"111.230469\" xlink:href=\"#ArialMT-50\"/>\n       <use x=\"166.845703\" xlink:href=\"#ArialMT-46\"/>\n       <use x=\"194.628906\" xlink:href=\"#ArialMT-50\"/>\n      </g>\n     </g>\n    </g>\n    <g id=\"xtick_10\">\n     <g id=\"line2d_16\">\n      <path clip-path=\"url(#pece3fc1e72)\" d=\"M 878.70647 333.36 \nL 878.70647 7.2 \n\" style=\"fill:none;stroke:#ffffff;stroke-linecap:round;stroke-width:0.8;\"/>\n     </g>\n     <g id=\"text_18\">\n      <!-- 232.4 -->\n      <g style=\"fill:#262626;\" transform=\"translate(866.195532 347.517812)scale(0.1 -0.1)\">\n       <use xlink:href=\"#ArialMT-50\"/>\n       <use x=\"55.615234\" xlink:href=\"#ArialMT-51\"/>\n       <use x=\"111.230469\" xlink:href=\"#ArialMT-50\"/>\n       <use x=\"166.845703\" xlink:href=\"#ArialMT-46\"/>\n       <use x=\"194.628906\" xlink:href=\"#ArialMT-52\"/>\n      </g>\n     </g>\n    </g>\n    <g id=\"text_19\">\n     <!-- Length of Body -->\n     <g style=\"fill:#262626;\" transform=\"translate(697.501065 360.785)scale(0.1 -0.1)\">\n      <defs>\n       <path d=\"M 7.328125 0 \nL 7.328125 71.578125 \nL 34.1875 71.578125 \nQ 42.390625 71.578125 47.34375 69.40625 \nQ 52.296875 67.234375 55.09375 62.71875 \nQ 57.90625 58.203125 57.90625 53.265625 \nQ 57.90625 48.6875 55.421875 44.625 \nQ 52.9375 40.578125 47.90625 38.09375 \nQ 54.390625 36.1875 57.875 31.59375 \nQ 61.375 27 61.375 20.75 \nQ 61.375 15.71875 59.25 11.390625 \nQ 57.125 7.078125 54 4.734375 \nQ 50.875 2.390625 46.15625 1.1875 \nQ 41.453125 0 34.625 0 \nz\nM 16.796875 41.5 \nL 32.28125 41.5 \nQ 38.578125 41.5 41.3125 42.328125 \nQ 44.921875 43.40625 46.75 45.890625 \nQ 48.578125 48.390625 48.578125 52.15625 \nQ 48.578125 55.71875 46.875 58.421875 \nQ 45.171875 61.140625 41.984375 62.140625 \nQ 38.8125 63.140625 31.109375 63.140625 \nL 16.796875 63.140625 \nz\nM 16.796875 8.453125 \nL 34.625 8.453125 \nQ 39.203125 8.453125 41.0625 8.796875 \nQ 44.34375 9.375 46.53125 10.734375 \nQ 48.734375 12.109375 50.140625 14.71875 \nQ 51.5625 17.328125 51.5625 20.75 \nQ 51.5625 24.75 49.515625 27.703125 \nQ 47.46875 30.671875 43.828125 31.859375 \nQ 40.1875 33.0625 33.34375 33.0625 \nL 16.796875 33.0625 \nz\n\" id=\"ArialMT-66\"/>\n       <path d=\"M 40.234375 0 \nL 40.234375 6.546875 \nQ 35.296875 -1.171875 25.734375 -1.171875 \nQ 19.53125 -1.171875 14.328125 2.25 \nQ 9.125 5.671875 6.265625 11.796875 \nQ 3.421875 17.921875 3.421875 25.875 \nQ 3.421875 33.640625 6 39.96875 \nQ 8.59375 46.296875 13.765625 49.65625 \nQ 18.953125 53.03125 25.34375 53.03125 \nQ 30.03125 53.03125 33.6875 51.046875 \nQ 37.359375 49.078125 39.65625 45.90625 \nL 39.65625 71.578125 \nL 48.390625 71.578125 \nL 48.390625 0 \nz\nM 12.453125 25.875 \nQ 12.453125 15.921875 16.640625 10.984375 \nQ 20.84375 6.0625 26.5625 6.0625 \nQ 32.328125 6.0625 36.34375 10.765625 \nQ 40.375 15.484375 40.375 25.140625 \nQ 40.375 35.796875 36.265625 40.765625 \nQ 32.171875 45.75 26.171875 45.75 \nQ 20.3125 45.75 16.375 40.96875 \nQ 12.453125 36.1875 12.453125 25.875 \nz\n\" id=\"ArialMT-100\"/>\n       <path d=\"M 6.203125 -19.96875 \nL 5.21875 -11.71875 \nQ 8.109375 -12.5 10.25 -12.5 \nQ 13.1875 -12.5 14.9375 -11.515625 \nQ 16.703125 -10.546875 17.828125 -8.796875 \nQ 18.65625 -7.46875 20.515625 -2.25 \nQ 20.75 -1.515625 21.296875 -0.09375 \nL 1.609375 51.859375 \nL 11.078125 51.859375 \nL 21.875 21.828125 \nQ 23.96875 16.109375 25.640625 9.8125 \nQ 27.15625 15.875 29.25 21.625 \nL 40.328125 51.859375 \nL 49.125 51.859375 \nL 29.390625 -0.875 \nQ 26.21875 -9.421875 24.46875 -12.640625 \nQ 22.125 -17 19.09375 -19.015625 \nQ 16.0625 -21.046875 11.859375 -21.046875 \nQ 9.328125 -21.046875 6.203125 -19.96875 \nz\n\" id=\"ArialMT-121\"/>\n      </defs>\n      <use xlink:href=\"#ArialMT-76\"/>\n      <use x=\"55.615234\" xlink:href=\"#ArialMT-101\"/>\n      <use x=\"111.230469\" xlink:href=\"#ArialMT-110\"/>\n      <use x=\"166.845703\" xlink:href=\"#ArialMT-103\"/>\n      <use x=\"222.460938\" xlink:href=\"#ArialMT-116\"/>\n      <use x=\"250.244141\" xlink:href=\"#ArialMT-104\"/>\n      <use x=\"305.859375\" xlink:href=\"#ArialMT-32\"/>\n      <use x=\"333.642578\" xlink:href=\"#ArialMT-111\"/>\n      <use x=\"389.257812\" xlink:href=\"#ArialMT-102\"/>\n      <use x=\"417.041016\" xlink:href=\"#ArialMT-32\"/>\n      <use x=\"444.824219\" xlink:href=\"#ArialMT-66\"/>\n      <use x=\"511.523438\" xlink:href=\"#ArialMT-111\"/>\n      <use x=\"567.138672\" xlink:href=\"#ArialMT-100\"/>\n      <use x=\"622.753906\" xlink:href=\"#ArialMT-121\"/>\n     </g>\n    </g>\n   </g>\n   <g id=\"matplotlib.axis_4\">\n    <g id=\"ytick_7\">\n     <g id=\"line2d_17\">\n      <path clip-path=\"url(#pece3fc1e72)\" d=\"M 528.227131 333.36 \nL 934.045313 333.36 \n\" style=\"fill:none;stroke:#ffffff;stroke-linecap:round;stroke-width:0.8;\"/>\n     </g>\n     <g id=\"text_20\">\n      <!-- 0.0 -->\n      <g style=\"fill:#262626;\" transform=\"translate(507.327131 336.938906)scale(0.1 -0.1)\">\n       <use xlink:href=\"#ArialMT-48\"/>\n       <use x=\"55.615234\" xlink:href=\"#ArialMT-46\"/>\n       <use x=\"83.398438\" xlink:href=\"#ArialMT-48\"/>\n      </g>\n     </g>\n    </g>\n    <g id=\"ytick_8\">\n     <g id=\"line2d_18\">\n      <path clip-path=\"url(#pece3fc1e72)\" d=\"M 528.227131 271.234286 \nL 934.045313 271.234286 \n\" style=\"fill:none;stroke:#ffffff;stroke-linecap:round;stroke-width:0.8;\"/>\n     </g>\n     <g id=\"text_21\">\n      <!-- 0.2 -->\n      <g style=\"fill:#262626;\" transform=\"translate(507.327131 274.813192)scale(0.1 -0.1)\">\n       <use xlink:href=\"#ArialMT-48\"/>\n       <use x=\"55.615234\" xlink:href=\"#ArialMT-46\"/>\n       <use x=\"83.398438\" xlink:href=\"#ArialMT-50\"/>\n      </g>\n     </g>\n    </g>\n    <g id=\"ytick_9\">\n     <g id=\"line2d_19\">\n      <path clip-path=\"url(#pece3fc1e72)\" d=\"M 528.227131 209.108571 \nL 934.045313 209.108571 \n\" style=\"fill:none;stroke:#ffffff;stroke-linecap:round;stroke-width:0.8;\"/>\n     </g>\n     <g id=\"text_22\">\n      <!-- 0.4 -->\n      <g style=\"fill:#262626;\" transform=\"translate(507.327131 212.687478)scale(0.1 -0.1)\">\n       <use xlink:href=\"#ArialMT-48\"/>\n       <use x=\"55.615234\" xlink:href=\"#ArialMT-46\"/>\n       <use x=\"83.398438\" xlink:href=\"#ArialMT-52\"/>\n      </g>\n     </g>\n    </g>\n    <g id=\"ytick_10\">\n     <g id=\"line2d_20\">\n      <path clip-path=\"url(#pece3fc1e72)\" d=\"M 528.227131 146.982857 \nL 934.045313 146.982857 \n\" style=\"fill:none;stroke:#ffffff;stroke-linecap:round;stroke-width:0.8;\"/>\n     </g>\n     <g id=\"text_23\">\n      <!-- 0.6 -->\n      <g style=\"fill:#262626;\" transform=\"translate(507.327131 150.561763)scale(0.1 -0.1)\">\n       <use xlink:href=\"#ArialMT-48\"/>\n       <use x=\"55.615234\" xlink:href=\"#ArialMT-46\"/>\n       <use x=\"83.398438\" xlink:href=\"#ArialMT-54\"/>\n      </g>\n     </g>\n    </g>\n    <g id=\"ytick_11\">\n     <g id=\"line2d_21\">\n      <path clip-path=\"url(#pece3fc1e72)\" d=\"M 528.227131 84.857143 \nL 934.045313 84.857143 \n\" style=\"fill:none;stroke:#ffffff;stroke-linecap:round;stroke-width:0.8;\"/>\n     </g>\n     <g id=\"text_24\">\n      <!-- 0.8 -->\n      <g style=\"fill:#262626;\" transform=\"translate(507.327131 88.436049)scale(0.1 -0.1)\">\n       <use xlink:href=\"#ArialMT-48\"/>\n       <use x=\"55.615234\" xlink:href=\"#ArialMT-46\"/>\n       <use x=\"83.398438\" xlink:href=\"#ArialMT-56\"/>\n      </g>\n     </g>\n    </g>\n    <g id=\"ytick_12\">\n     <g id=\"line2d_22\">\n      <path clip-path=\"url(#pece3fc1e72)\" d=\"M 528.227131 22.731429 \nL 934.045313 22.731429 \n\" style=\"fill:none;stroke:#ffffff;stroke-linecap:round;stroke-width:0.8;\"/>\n     </g>\n     <g id=\"text_25\">\n      <!-- 1.0 -->\n      <g style=\"fill:#262626;\" transform=\"translate(507.327131 26.310335)scale(0.1 -0.1)\">\n       <use xlink:href=\"#ArialMT-49\"/>\n       <use x=\"55.615234\" xlink:href=\"#ArialMT-46\"/>\n       <use x=\"83.398438\" xlink:href=\"#ArialMT-48\"/>\n      </g>\n     </g>\n    </g>\n    <g id=\"text_26\">\n     <!-- Count -->\n     <g style=\"fill:#262626;\" transform=\"translate(501.339631 183.621406)rotate(-90)scale(0.1 -0.1)\">\n      <use xlink:href=\"#ArialMT-67\"/>\n      <use x=\"72.216797\" xlink:href=\"#ArialMT-111\"/>\n      <use x=\"127.832031\" xlink:href=\"#ArialMT-117\"/>\n      <use x=\"183.447266\" xlink:href=\"#ArialMT-110\"/>\n      <use x=\"239.0625\" xlink:href=\"#ArialMT-116\"/>\n     </g>\n    </g>\n   </g>\n   <g id=\"patch_58\">\n    <path clip-path=\"url(#pece3fc1e72)\" d=\"M 546.673412 333.36 \nL 554.051924 333.36 \nL 554.051924 333.36 \nL 546.673412 333.36 \nz\n\" style=\"fill:#1f77b4;fill-opacity:0.5;stroke:#ffffff;stroke-linejoin:miter;stroke-width:0.737851;\"/>\n   </g>\n   <g id=\"patch_59\">\n    <path clip-path=\"url(#pece3fc1e72)\" d=\"M 554.051924 333.36 \nL 561.430436 333.36 \nL 561.430436 333.36 \nL 554.051924 333.36 \nz\n\" style=\"fill:#1f77b4;fill-opacity:0.5;stroke:#ffffff;stroke-linejoin:miter;stroke-width:0.737851;\"/>\n   </g>\n   <g id=\"patch_60\">\n    <path clip-path=\"url(#pece3fc1e72)\" d=\"M 561.430436 333.36 \nL 568.808949 333.36 \nL 568.808949 333.36 \nL 561.430436 333.36 \nz\n\" style=\"fill:#1f77b4;fill-opacity:0.5;stroke:#ffffff;stroke-linejoin:miter;stroke-width:0.737851;\"/>\n   </g>\n   <g id=\"patch_61\">\n    <path clip-path=\"url(#pece3fc1e72)\" d=\"M 568.808949 333.36 \nL 576.187461 333.36 \nL 576.187461 333.36 \nL 568.808949 333.36 \nz\n\" style=\"fill:#1f77b4;fill-opacity:0.5;stroke:#ffffff;stroke-linejoin:miter;stroke-width:0.737851;\"/>\n   </g>\n   <g id=\"patch_62\">\n    <path clip-path=\"url(#pece3fc1e72)\" d=\"M 576.187461 333.36 \nL 583.565974 333.36 \nL 583.565974 333.36 \nL 576.187461 333.36 \nz\n\" style=\"fill:#1f77b4;fill-opacity:0.5;stroke:#ffffff;stroke-linejoin:miter;stroke-width:0.737851;\"/>\n   </g>\n   <g id=\"patch_63\">\n    <path clip-path=\"url(#pece3fc1e72)\" d=\"M 583.565974 333.36 \nL 590.944486 333.36 \nL 590.944486 333.36 \nL 583.565974 333.36 \nz\n\" style=\"fill:#1f77b4;fill-opacity:0.5;stroke:#ffffff;stroke-linejoin:miter;stroke-width:0.737851;\"/>\n   </g>\n   <g id=\"patch_64\">\n    <path clip-path=\"url(#pece3fc1e72)\" d=\"M 590.944486 333.36 \nL 598.322998 333.36 \nL 598.322998 333.36 \nL 590.944486 333.36 \nz\n\" style=\"fill:#1f77b4;fill-opacity:0.5;stroke:#ffffff;stroke-linejoin:miter;stroke-width:0.737851;\"/>\n   </g>\n   <g id=\"patch_65\">\n    <path clip-path=\"url(#pece3fc1e72)\" d=\"M 598.322998 333.36 \nL 605.701511 333.36 \nL 605.701511 333.36 \nL 598.322998 333.36 \nz\n\" style=\"fill:#1f77b4;fill-opacity:0.5;stroke:#ffffff;stroke-linejoin:miter;stroke-width:0.737851;\"/>\n   </g>\n   <g id=\"patch_66\">\n    <path clip-path=\"url(#pece3fc1e72)\" d=\"M 605.701511 333.36 \nL 613.080023 333.36 \nL 613.080023 333.36 \nL 605.701511 333.36 \nz\n\" style=\"fill:#1f77b4;fill-opacity:0.5;stroke:#ffffff;stroke-linejoin:miter;stroke-width:0.737851;\"/>\n   </g>\n   <g id=\"patch_67\">\n    <path clip-path=\"url(#pece3fc1e72)\" d=\"M 613.080023 333.36 \nL 620.458536 333.36 \nL 620.458536 333.36 \nL 613.080023 333.36 \nz\n\" style=\"fill:#1f77b4;fill-opacity:0.5;stroke:#ffffff;stroke-linejoin:miter;stroke-width:0.737851;\"/>\n   </g>\n   <g id=\"patch_68\">\n    <path clip-path=\"url(#pece3fc1e72)\" d=\"M 620.458536 333.36 \nL 627.837048 333.36 \nL 627.837048 333.36 \nL 620.458536 333.36 \nz\n\" style=\"fill:#1f77b4;fill-opacity:0.5;stroke:#ffffff;stroke-linejoin:miter;stroke-width:0.737851;\"/>\n   </g>\n   <g id=\"patch_69\">\n    <path clip-path=\"url(#pece3fc1e72)\" d=\"M 627.837048 333.36 \nL 635.21556 333.36 \nL 635.21556 333.36 \nL 627.837048 333.36 \nz\n\" style=\"fill:#1f77b4;fill-opacity:0.5;stroke:#ffffff;stroke-linejoin:miter;stroke-width:0.737851;\"/>\n   </g>\n   <g id=\"patch_70\">\n    <path clip-path=\"url(#pece3fc1e72)\" d=\"M 635.21556 333.36 \nL 642.594073 333.36 \nL 642.594073 333.36 \nL 635.21556 333.36 \nz\n\" style=\"fill:#1f77b4;fill-opacity:0.5;stroke:#ffffff;stroke-linejoin:miter;stroke-width:0.737851;\"/>\n   </g>\n   <g id=\"patch_71\">\n    <path clip-path=\"url(#pece3fc1e72)\" d=\"M 642.594073 333.36 \nL 649.972585 333.36 \nL 649.972585 333.36 \nL 642.594073 333.36 \nz\n\" style=\"fill:#1f77b4;fill-opacity:0.5;stroke:#ffffff;stroke-linejoin:miter;stroke-width:0.737851;\"/>\n   </g>\n   <g id=\"patch_72\">\n    <path clip-path=\"url(#pece3fc1e72)\" d=\"M 649.972585 333.36 \nL 657.351098 333.36 \nL 657.351098 333.36 \nL 649.972585 333.36 \nz\n\" style=\"fill:#1f77b4;fill-opacity:0.5;stroke:#ffffff;stroke-linejoin:miter;stroke-width:0.737851;\"/>\n   </g>\n   <g id=\"patch_73\">\n    <path clip-path=\"url(#pece3fc1e72)\" d=\"M 657.351098 333.36 \nL 664.72961 333.36 \nL 664.72961 333.36 \nL 657.351098 333.36 \nz\n\" style=\"fill:#1f77b4;fill-opacity:0.5;stroke:#ffffff;stroke-linejoin:miter;stroke-width:0.737851;\"/>\n   </g>\n   <g id=\"patch_74\">\n    <path clip-path=\"url(#pece3fc1e72)\" d=\"M 664.72961 333.36 \nL 672.108122 333.36 \nL 672.108122 333.36 \nL 664.72961 333.36 \nz\n\" style=\"fill:#1f77b4;fill-opacity:0.5;stroke:#ffffff;stroke-linejoin:miter;stroke-width:0.737851;\"/>\n   </g>\n   <g id=\"patch_75\">\n    <path clip-path=\"url(#pece3fc1e72)\" d=\"M 672.108122 333.36 \nL 679.486635 333.36 \nL 679.486635 333.36 \nL 672.108122 333.36 \nz\n\" style=\"fill:#1f77b4;fill-opacity:0.5;stroke:#ffffff;stroke-linejoin:miter;stroke-width:0.737851;\"/>\n   </g>\n   <g id=\"patch_76\">\n    <path clip-path=\"url(#pece3fc1e72)\" d=\"M 679.486635 333.36 \nL 686.865147 333.36 \nL 686.865147 333.36 \nL 679.486635 333.36 \nz\n\" style=\"fill:#1f77b4;fill-opacity:0.5;stroke:#ffffff;stroke-linejoin:miter;stroke-width:0.737851;\"/>\n   </g>\n   <g id=\"patch_77\">\n    <path clip-path=\"url(#pece3fc1e72)\" d=\"M 686.865147 333.36 \nL 694.24366 333.36 \nL 694.24366 333.36 \nL 686.865147 333.36 \nz\n\" style=\"fill:#1f77b4;fill-opacity:0.5;stroke:#ffffff;stroke-linejoin:miter;stroke-width:0.737851;\"/>\n   </g>\n   <g id=\"patch_78\">\n    <path clip-path=\"url(#pece3fc1e72)\" d=\"M 694.24366 333.36 \nL 701.622172 333.36 \nL 701.622172 333.36 \nL 694.24366 333.36 \nz\n\" style=\"fill:#1f77b4;fill-opacity:0.5;stroke:#ffffff;stroke-linejoin:miter;stroke-width:0.737851;\"/>\n   </g>\n   <g id=\"patch_79\">\n    <path clip-path=\"url(#pece3fc1e72)\" d=\"M 701.622172 333.36 \nL 709.000684 333.36 \nL 709.000684 333.36 \nL 701.622172 333.36 \nz\n\" style=\"fill:#1f77b4;fill-opacity:0.5;stroke:#ffffff;stroke-linejoin:miter;stroke-width:0.737851;\"/>\n   </g>\n   <g id=\"patch_80\">\n    <path clip-path=\"url(#pece3fc1e72)\" d=\"M 709.000684 333.36 \nL 716.379197 333.36 \nL 716.379197 333.36 \nL 709.000684 333.36 \nz\n\" style=\"fill:#1f77b4;fill-opacity:0.5;stroke:#ffffff;stroke-linejoin:miter;stroke-width:0.737851;\"/>\n   </g>\n   <g id=\"patch_81\">\n    <path clip-path=\"url(#pece3fc1e72)\" d=\"M 716.379197 333.36 \nL 723.757709 333.36 \nL 723.757709 333.36 \nL 716.379197 333.36 \nz\n\" style=\"fill:#1f77b4;fill-opacity:0.5;stroke:#ffffff;stroke-linejoin:miter;stroke-width:0.737851;\"/>\n   </g>\n   <g id=\"patch_82\">\n    <path clip-path=\"url(#pece3fc1e72)\" d=\"M 723.757709 333.36 \nL 731.136222 333.36 \nL 731.136222 333.36 \nL 723.757709 333.36 \nz\n\" style=\"fill:#1f77b4;fill-opacity:0.5;stroke:#ffffff;stroke-linejoin:miter;stroke-width:0.737851;\"/>\n   </g>\n   <g id=\"patch_83\">\n    <path clip-path=\"url(#pece3fc1e72)\" d=\"M 731.136222 333.36 \nL 738.514734 333.36 \nL 738.514734 22.731429 \nL 731.136222 22.731429 \nz\n\" style=\"fill:#1f77b4;fill-opacity:0.5;stroke:#ffffff;stroke-linejoin:miter;stroke-width:0.737851;\"/>\n   </g>\n   <g id=\"patch_84\">\n    <path clip-path=\"url(#pece3fc1e72)\" d=\"M 738.514734 333.36 \nL 745.893246 333.36 \nL 745.893246 333.36 \nL 738.514734 333.36 \nz\n\" style=\"fill:#1f77b4;fill-opacity:0.5;stroke:#ffffff;stroke-linejoin:miter;stroke-width:0.737851;\"/>\n   </g>\n   <g id=\"patch_85\">\n    <path clip-path=\"url(#pece3fc1e72)\" d=\"M 745.893246 333.36 \nL 753.271759 333.36 \nL 753.271759 333.36 \nL 745.893246 333.36 \nz\n\" style=\"fill:#1f77b4;fill-opacity:0.5;stroke:#ffffff;stroke-linejoin:miter;stroke-width:0.737851;\"/>\n   </g>\n   <g id=\"patch_86\">\n    <path clip-path=\"url(#pece3fc1e72)\" d=\"M 753.271759 333.36 \nL 760.650271 333.36 \nL 760.650271 333.36 \nL 753.271759 333.36 \nz\n\" style=\"fill:#1f77b4;fill-opacity:0.5;stroke:#ffffff;stroke-linejoin:miter;stroke-width:0.737851;\"/>\n   </g>\n   <g id=\"patch_87\">\n    <path clip-path=\"url(#pece3fc1e72)\" d=\"M 760.650271 333.36 \nL 768.028784 333.36 \nL 768.028784 333.36 \nL 760.650271 333.36 \nz\n\" style=\"fill:#1f77b4;fill-opacity:0.5;stroke:#ffffff;stroke-linejoin:miter;stroke-width:0.737851;\"/>\n   </g>\n   <g id=\"patch_88\">\n    <path clip-path=\"url(#pece3fc1e72)\" d=\"M 768.028784 333.36 \nL 775.407296 333.36 \nL 775.407296 333.36 \nL 768.028784 333.36 \nz\n\" style=\"fill:#1f77b4;fill-opacity:0.5;stroke:#ffffff;stroke-linejoin:miter;stroke-width:0.737851;\"/>\n   </g>\n   <g id=\"patch_89\">\n    <path clip-path=\"url(#pece3fc1e72)\" d=\"M 775.407296 333.36 \nL 782.785808 333.36 \nL 782.785808 333.36 \nL 775.407296 333.36 \nz\n\" style=\"fill:#1f77b4;fill-opacity:0.5;stroke:#ffffff;stroke-linejoin:miter;stroke-width:0.737851;\"/>\n   </g>\n   <g id=\"patch_90\">\n    <path clip-path=\"url(#pece3fc1e72)\" d=\"M 782.785808 333.36 \nL 790.164321 333.36 \nL 790.164321 333.36 \nL 782.785808 333.36 \nz\n\" style=\"fill:#1f77b4;fill-opacity:0.5;stroke:#ffffff;stroke-linejoin:miter;stroke-width:0.737851;\"/>\n   </g>\n   <g id=\"patch_91\">\n    <path clip-path=\"url(#pece3fc1e72)\" d=\"M 790.164321 333.36 \nL 797.542833 333.36 \nL 797.542833 333.36 \nL 790.164321 333.36 \nz\n\" style=\"fill:#1f77b4;fill-opacity:0.5;stroke:#ffffff;stroke-linejoin:miter;stroke-width:0.737851;\"/>\n   </g>\n   <g id=\"patch_92\">\n    <path clip-path=\"url(#pece3fc1e72)\" d=\"M 797.542833 333.36 \nL 804.921346 333.36 \nL 804.921346 333.36 \nL 797.542833 333.36 \nz\n\" style=\"fill:#1f77b4;fill-opacity:0.5;stroke:#ffffff;stroke-linejoin:miter;stroke-width:0.737851;\"/>\n   </g>\n   <g id=\"patch_93\">\n    <path clip-path=\"url(#pece3fc1e72)\" d=\"M 804.921346 333.36 \nL 812.299858 333.36 \nL 812.299858 333.36 \nL 804.921346 333.36 \nz\n\" style=\"fill:#1f77b4;fill-opacity:0.5;stroke:#ffffff;stroke-linejoin:miter;stroke-width:0.737851;\"/>\n   </g>\n   <g id=\"patch_94\">\n    <path clip-path=\"url(#pece3fc1e72)\" d=\"M 812.299858 333.36 \nL 819.67837 333.36 \nL 819.67837 333.36 \nL 812.299858 333.36 \nz\n\" style=\"fill:#1f77b4;fill-opacity:0.5;stroke:#ffffff;stroke-linejoin:miter;stroke-width:0.737851;\"/>\n   </g>\n   <g id=\"patch_95\">\n    <path clip-path=\"url(#pece3fc1e72)\" d=\"M 819.67837 333.36 \nL 827.056883 333.36 \nL 827.056883 333.36 \nL 819.67837 333.36 \nz\n\" style=\"fill:#1f77b4;fill-opacity:0.5;stroke:#ffffff;stroke-linejoin:miter;stroke-width:0.737851;\"/>\n   </g>\n   <g id=\"patch_96\">\n    <path clip-path=\"url(#pece3fc1e72)\" d=\"M 827.056883 333.36 \nL 834.435395 333.36 \nL 834.435395 333.36 \nL 827.056883 333.36 \nz\n\" style=\"fill:#1f77b4;fill-opacity:0.5;stroke:#ffffff;stroke-linejoin:miter;stroke-width:0.737851;\"/>\n   </g>\n   <g id=\"patch_97\">\n    <path clip-path=\"url(#pece3fc1e72)\" d=\"M 834.435395 333.36 \nL 841.813908 333.36 \nL 841.813908 333.36 \nL 834.435395 333.36 \nz\n\" style=\"fill:#1f77b4;fill-opacity:0.5;stroke:#ffffff;stroke-linejoin:miter;stroke-width:0.737851;\"/>\n   </g>\n   <g id=\"patch_98\">\n    <path clip-path=\"url(#pece3fc1e72)\" d=\"M 841.813908 333.36 \nL 849.19242 333.36 \nL 849.19242 333.36 \nL 841.813908 333.36 \nz\n\" style=\"fill:#1f77b4;fill-opacity:0.5;stroke:#ffffff;stroke-linejoin:miter;stroke-width:0.737851;\"/>\n   </g>\n   <g id=\"patch_99\">\n    <path clip-path=\"url(#pece3fc1e72)\" d=\"M 849.19242 333.36 \nL 856.570932 333.36 \nL 856.570932 333.36 \nL 849.19242 333.36 \nz\n\" style=\"fill:#1f77b4;fill-opacity:0.5;stroke:#ffffff;stroke-linejoin:miter;stroke-width:0.737851;\"/>\n   </g>\n   <g id=\"patch_100\">\n    <path clip-path=\"url(#pece3fc1e72)\" d=\"M 856.570932 333.36 \nL 863.949445 333.36 \nL 863.949445 333.36 \nL 856.570932 333.36 \nz\n\" style=\"fill:#1f77b4;fill-opacity:0.5;stroke:#ffffff;stroke-linejoin:miter;stroke-width:0.737851;\"/>\n   </g>\n   <g id=\"patch_101\">\n    <path clip-path=\"url(#pece3fc1e72)\" d=\"M 863.949445 333.36 \nL 871.327957 333.36 \nL 871.327957 333.36 \nL 863.949445 333.36 \nz\n\" style=\"fill:#1f77b4;fill-opacity:0.5;stroke:#ffffff;stroke-linejoin:miter;stroke-width:0.737851;\"/>\n   </g>\n   <g id=\"patch_102\">\n    <path clip-path=\"url(#pece3fc1e72)\" d=\"M 871.327957 333.36 \nL 878.70647 333.36 \nL 878.70647 333.36 \nL 871.327957 333.36 \nz\n\" style=\"fill:#1f77b4;fill-opacity:0.5;stroke:#ffffff;stroke-linejoin:miter;stroke-width:0.737851;\"/>\n   </g>\n   <g id=\"patch_103\">\n    <path clip-path=\"url(#pece3fc1e72)\" d=\"M 878.70647 333.36 \nL 886.084982 333.36 \nL 886.084982 333.36 \nL 878.70647 333.36 \nz\n\" style=\"fill:#1f77b4;fill-opacity:0.5;stroke:#ffffff;stroke-linejoin:miter;stroke-width:0.737851;\"/>\n   </g>\n   <g id=\"patch_104\">\n    <path clip-path=\"url(#pece3fc1e72)\" d=\"M 886.084982 333.36 \nL 893.463494 333.36 \nL 893.463494 333.36 \nL 886.084982 333.36 \nz\n\" style=\"fill:#1f77b4;fill-opacity:0.5;stroke:#ffffff;stroke-linejoin:miter;stroke-width:0.737851;\"/>\n   </g>\n   <g id=\"patch_105\">\n    <path clip-path=\"url(#pece3fc1e72)\" d=\"M 893.463494 333.36 \nL 900.842007 333.36 \nL 900.842007 333.36 \nL 893.463494 333.36 \nz\n\" style=\"fill:#1f77b4;fill-opacity:0.5;stroke:#ffffff;stroke-linejoin:miter;stroke-width:0.737851;\"/>\n   </g>\n   <g id=\"patch_106\">\n    <path clip-path=\"url(#pece3fc1e72)\" d=\"M 900.842007 333.36 \nL 908.220519 333.36 \nL 908.220519 333.36 \nL 900.842007 333.36 \nz\n\" style=\"fill:#1f77b4;fill-opacity:0.5;stroke:#ffffff;stroke-linejoin:miter;stroke-width:0.737851;\"/>\n   </g>\n   <g id=\"patch_107\">\n    <path clip-path=\"url(#pece3fc1e72)\" d=\"M 908.220519 333.36 \nL 915.599032 333.36 \nL 915.599032 333.36 \nL 908.220519 333.36 \nz\n\" style=\"fill:#1f77b4;fill-opacity:0.5;stroke:#ffffff;stroke-linejoin:miter;stroke-width:0.737851;\"/>\n   </g>\n   <g id=\"patch_108\">\n    <path d=\"M 528.227131 333.36 \nL 528.227131 7.2 \n\" style=\"fill:none;stroke:#ffffff;stroke-linecap:square;stroke-linejoin:miter;stroke-width:0.8;\"/>\n   </g>\n   <g id=\"patch_109\">\n    <path d=\"M 934.045313 333.36 \nL 934.045313 7.2 \n\" style=\"fill:none;stroke:#ffffff;stroke-linecap:square;stroke-linejoin:miter;stroke-width:0.8;\"/>\n   </g>\n   <g id=\"patch_110\">\n    <path d=\"M 528.227131 333.36 \nL 934.045313 333.36 \n\" style=\"fill:none;stroke:#ffffff;stroke-linecap:square;stroke-linejoin:miter;stroke-width:0.8;\"/>\n   </g>\n   <g id=\"patch_111\">\n    <path d=\"M 528.227131 7.2 \nL 934.045313 7.2 \n\" style=\"fill:none;stroke:#ffffff;stroke-linecap:square;stroke-linejoin:miter;stroke-width:0.8;\"/>\n   </g>\n  </g>\n </g>\n <defs>\n  <clipPath id=\"pc229f1fc29\">\n   <rect height=\"326.16\" width=\"405.818182\" x=\"41.245313\" y=\"7.2\"/>\n  </clipPath>\n  <clipPath id=\"pece3fc1e72\">\n   <rect height=\"326.16\" width=\"405.818182\" x=\"528.227131\" y=\"7.2\"/>\n  </clipPath>\n </defs>\n</svg>\n",
      "image/png": "[encoded data removed]"
     },
     "metadata": {
      "needs_background": "light"
     }
    }
   ],
   "source": [
    "title_length = [len(title)]\n",
    "body_length = [len(filter_sentence)]\n",
    "\n",
    "fig, (axis1, axis2) = plt.subplots(1,2, figsize=(16,6))\n",
    "sns.histplot(title_length, bins=50, kde=True, ax= axis1)\n",
    "sns.histplot(body_length, bins=50, kde=True, ax= axis2)\n",
    "\n",
    "axis1.set_xlabel(\"Length of Title\")\n",
    "axis2.set_xlabel(\"Length of Body\")\n",
    "\n",
    "plt.show()"
   ]
  },
  {
   "cell_type": "code",
   "execution_count": null,
   "metadata": {},
   "outputs": [],
   "source": []
  }
 ],
 "metadata": {
  "kernelspec": {
   "display_name": "Python 3",
   "language": "python",
   "name": "python3"
  },
  "language_info": {
   "codemirror_mode": {
    "name": "ipython",
    "version": 3
   },
   "file_extension": ".py",
   "mimetype": "text/x-python",
   "name": "python",
   "nbconvert_exporter": "python",
   "pygments_lexer": "ipython3",
   "version": "3.8.8-final"
  }
 },
 "nbformat": 4,
 "nbformat_minor": 2
}